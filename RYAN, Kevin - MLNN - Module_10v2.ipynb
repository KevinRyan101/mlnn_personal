{
 "cells": [
  {
   "cell_type": "markdown",
   "metadata": {},
   "source": [
    "# Neural Networks image recognition - MultiLayer Perceptron\n",
    "Use both MLNN for the following problem.\n",
    "\n",
    "1. Add random noise (see below on `size parameter` on [`np.random.normal`](https://numpy.org/doc/stable/reference/random/generated/numpy.random.normal.html)) to the images in training and testing. **Make sure each image gets a different noise feature added to it. Inspect by printing out several images. Note - the `size` parameter should match the data. **\n",
    "2. Compare the `accuracy` of train and val after N epochs for MLNN with and without noise. \n",
    "3. Vary the amount of noise by changing the `scale` parameter in `np.random.normal` by a factor. Use `.1, .5, 1.0, 2.0, 4.0` for the `scale` and keep track of the `accuracy` for training and validation and plot these results."
   ]
  },
  {
   "cell_type": "markdown",
   "metadata": {},
   "source": [
    "# `np.random.normal`\n",
    "\n",
    "## Parameters\n",
    "\n",
    "### loc\n",
    "\n",
    "Mean (“centre”) of the distribution.\n",
    "\n",
    "### scale\n",
    "\n",
    "Standard deviation (spread or “width”) of the distribution. Must be non-negative.\n",
    "\n",
    "### size\n",
    "\n",
    "Output shape. If the given shape is, e.g., (m, n, k), then m * n * k samples are drawn. If size is None (default), a single value is returned if loc and scale are both scalars. Otherwise, np.broadcast(loc, scale).size samples are drawn."
   ]
  },
  {
   "cell_type": "markdown",
   "metadata": {},
   "source": [
    "# Neural Networks - Image Recognition "
   ]
  },
  {
   "cell_type": "code",
   "execution_count": 22,
   "metadata": {},
   "outputs": [],
   "source": [
    "import keras\n",
    "from keras.datasets import mnist\n",
    "from keras.models import Sequential\n",
    "from keras.optimizers import RMSprop\n",
    "from keras.layers import Dense, Dropout, Flatten\n",
    "from keras.layers import Conv2D, MaxPooling2D\n",
    "from keras import backend"
   ]
  },
  {
   "cell_type": "code",
   "execution_count": 24,
   "metadata": {},
   "outputs": [],
   "source": [
    "import matplotlib.pyplot as  plt\n",
    "%matplotlib inline"
   ]
  },
  {
   "cell_type": "markdown",
   "metadata": {},
   "source": [
    "## Multi Layer Neural Network\n",
    "Trains a simple deep NN on the MNIST dataset.\n",
    "Gets to 98.40% test accuracy after 20 epochs\n",
    "(there is *a lot* of margin for parameter tuning)."
   ]
  },
  {
   "cell_type": "code",
   "execution_count": 26,
   "metadata": {},
   "outputs": [
    {
     "name": "stdout",
     "output_type": "stream",
     "text": [
      "60000 train samples\n",
      "10000 test samples\n"
     ]
    }
   ],
   "source": [
    "# the data, shuffled and split between train and test sets\n",
    "(x_train, y_train), (x_test, y_test) = mnist.load_data()\n",
    "\n",
    "x_train = x_train.reshape(60000, 784)\n",
    "x_test = x_test.reshape(10000, 784)\n",
    "x_train = x_train.astype('float32')\n",
    "x_test = x_test.astype('float32')\n",
    "x_train /= 255\n",
    "x_test /= 255\n",
    "print(x_train.shape[0], 'train samples')\n",
    "print(x_test.shape[0], 'test samples')"
   ]
  },
  {
   "cell_type": "code",
   "execution_count": 39,
   "metadata": {},
   "outputs": [],
   "source": [
    "import numpy as np\n",
    "\n",
    "#Use .1, .5, 1.0, 2.0, 4.0\n",
    "\n",
    "x_train_noise10 = x_train + np.random.normal(0, 255*.10, x_train.shape)\n",
    "x_test_noise10 = x_test + np.random.normal(0, 255*.10, x_test.shape)\n",
    "\n",
    "x_train_noise50 = x_train + np.random.normal(0, 255*.50, x_train.shape)\n",
    "x_test_noise50 = x_test + np.random.normal(0, 255*.50, x_test.shape)\n",
    "\n",
    "x_train_noise1 = x_train + np.random.normal(0, 255*1, x_train.shape)\n",
    "x_test_noise1 = x_test + np.random.normal(0, 255*1, x_test.shape)\n",
    "\n",
    "x_train_noise2 = x_train + np.random.normal(0, 255*2, x_train.shape)\n",
    "x_test_noise2 = x_test + np.random.normal(0, 255*2, x_test.shape)\n",
    "\n",
    "x_train_noise4 = x_train + np.random.normal(0, 255*4, x_train.shape)\n",
    "x_test_noise4 = x_test + np.random.normal(0, 255*4, x_test.shape)"
   ]
  },
  {
   "cell_type": "code",
   "execution_count": 28,
   "metadata": {},
   "outputs": [
    {
     "name": "stdout",
     "output_type": "stream",
     "text": [
      "Model: \"sequential_11\"\n",
      "_________________________________________________________________\n",
      " Layer (type)                Output Shape              Param #   \n",
      "=================================================================\n",
      " dense_33 (Dense)            (None, 512)               401920    \n",
      "                                                                 \n",
      " dropout_22 (Dropout)        (None, 512)               0         \n",
      "                                                                 \n",
      " dense_34 (Dense)            (None, 512)               262656    \n",
      "                                                                 \n",
      " dropout_23 (Dropout)        (None, 512)               0         \n",
      "                                                                 \n",
      " dense_35 (Dense)            (None, 10)                5130      \n",
      "                                                                 \n",
      "=================================================================\n",
      "Total params: 669,706\n",
      "Trainable params: 669,706\n",
      "Non-trainable params: 0\n",
      "_________________________________________________________________\n",
      "Epoch 1/20\n",
      "469/469 [==============================] - 4s 8ms/step - loss: 0.2441 - accuracy: 0.9253 - val_loss: 0.1053 - val_accuracy: 0.9666\n",
      "Epoch 2/20\n",
      "469/469 [==============================] - 3s 7ms/step - loss: 0.1039 - accuracy: 0.9688 - val_loss: 0.0856 - val_accuracy: 0.9740\n",
      "Epoch 3/20\n",
      "469/469 [==============================] - 4s 8ms/step - loss: 0.0744 - accuracy: 0.9771 - val_loss: 0.0778 - val_accuracy: 0.9775\n",
      "Epoch 4/20\n",
      "469/469 [==============================] - 3s 7ms/step - loss: 0.0615 - accuracy: 0.9818 - val_loss: 0.0684 - val_accuracy: 0.9795\n",
      "Epoch 5/20\n",
      "469/469 [==============================] - 3s 7ms/step - loss: 0.0498 - accuracy: 0.9852 - val_loss: 0.0792 - val_accuracy: 0.9797\n",
      "Epoch 6/20\n",
      "469/469 [==============================] - 3s 7ms/step - loss: 0.0426 - accuracy: 0.9871 - val_loss: 0.0799 - val_accuracy: 0.9806\n",
      "Epoch 7/20\n",
      "469/469 [==============================] - 3s 7ms/step - loss: 0.0384 - accuracy: 0.9885 - val_loss: 0.0837 - val_accuracy: 0.9811\n",
      "Epoch 8/20\n",
      "469/469 [==============================] - 3s 7ms/step - loss: 0.0319 - accuracy: 0.9906 - val_loss: 0.0943 - val_accuracy: 0.9812\n",
      "Epoch 9/20\n",
      "469/469 [==============================] - 3s 6ms/step - loss: 0.0315 - accuracy: 0.9906 - val_loss: 0.0881 - val_accuracy: 0.9812\n",
      "Epoch 10/20\n",
      "469/469 [==============================] - 3s 6ms/step - loss: 0.0271 - accuracy: 0.9923 - val_loss: 0.0901 - val_accuracy: 0.9833\n",
      "Epoch 11/20\n",
      "469/469 [==============================] - 3s 6ms/step - loss: 0.0274 - accuracy: 0.9924 - val_loss: 0.0869 - val_accuracy: 0.9829\n",
      "Epoch 12/20\n",
      "469/469 [==============================] - 3s 7ms/step - loss: 0.0231 - accuracy: 0.9935 - val_loss: 0.1126 - val_accuracy: 0.9818\n",
      "Epoch 13/20\n",
      "469/469 [==============================] - 4s 8ms/step - loss: 0.0255 - accuracy: 0.9933 - val_loss: 0.1098 - val_accuracy: 0.9816\n",
      "Epoch 14/20\n",
      "469/469 [==============================] - 3s 7ms/step - loss: 0.0210 - accuracy: 0.9939 - val_loss: 0.1128 - val_accuracy: 0.9830\n",
      "Epoch 15/20\n",
      "469/469 [==============================] - 3s 7ms/step - loss: 0.0229 - accuracy: 0.9938 - val_loss: 0.1139 - val_accuracy: 0.9816\n",
      "Epoch 16/20\n",
      "469/469 [==============================] - 3s 7ms/step - loss: 0.0206 - accuracy: 0.9947 - val_loss: 0.1132 - val_accuracy: 0.9837\n",
      "Epoch 17/20\n",
      "469/469 [==============================] - 3s 7ms/step - loss: 0.0189 - accuracy: 0.9946 - val_loss: 0.1263 - val_accuracy: 0.9843\n",
      "Epoch 18/20\n",
      "469/469 [==============================] - 3s 6ms/step - loss: 0.0184 - accuracy: 0.9950 - val_loss: 0.1198 - val_accuracy: 0.9840\n",
      "Epoch 19/20\n",
      "469/469 [==============================] - 3s 6ms/step - loss: 0.0196 - accuracy: 0.9950 - val_loss: 0.1142 - val_accuracy: 0.9833\n",
      "Epoch 20/20\n",
      "469/469 [==============================] - 3s 7ms/step - loss: 0.0171 - accuracy: 0.9950 - val_loss: 0.1307 - val_accuracy: 0.9829\n",
      "Test loss: 0.13065315783023834\n",
      "Test accuracy: 0.9829000234603882\n"
     ]
    }
   ],
   "source": [
    "batch_size = 128\n",
    "num_classes = 10\n",
    "epochs = 20\n",
    "\n",
    "# convert class vectors to binary class matrices\n",
    "y_train = keras.utils.to_categorical(y_train, num_classes)\n",
    "y_test = keras.utils.to_categorical(y_test, num_classes)\n",
    "\n",
    "model = Sequential()\n",
    "model.add(Dense(512, activation='relu', input_shape=(784,)))\n",
    "model.add(Dropout(0.2))\n",
    "model.add(Dense(512, activation='relu'))\n",
    "model.add(Dropout(0.2))\n",
    "model.add(Dense(10, activation='softmax'))\n",
    "\n",
    "model.summary()\n",
    "\n",
    "model.compile(loss='categorical_crossentropy',\n",
    "              optimizer=RMSprop(),\n",
    "              metrics=['accuracy'])\n",
    "\n",
    "history = model.fit(x_train, y_train,\n",
    "                    batch_size=batch_size,\n",
    "                    epochs=epochs,\n",
    "                    verbose=1,\n",
    "                    validation_data=(x_test, y_test))\n",
    "score_nn = model.evaluate(x_test, y_test, verbose=0)\n",
    "print('Test loss:', score_nn[0])\n",
    "print('Test accuracy:', score_nn[1])"
   ]
  },
  {
   "cell_type": "code",
   "execution_count": 29,
   "metadata": {},
   "outputs": [
    {
     "name": "stdout",
     "output_type": "stream",
     "text": [
      "Model: \"sequential_12\"\n",
      "_________________________________________________________________\n",
      " Layer (type)                Output Shape              Param #   \n",
      "=================================================================\n",
      " dense_36 (Dense)            (None, 512)               401920    \n",
      "                                                                 \n",
      " dropout_24 (Dropout)        (None, 512)               0         \n",
      "                                                                 \n",
      " dense_37 (Dense)            (None, 512)               262656    \n",
      "                                                                 \n",
      " dropout_25 (Dropout)        (None, 512)               0         \n",
      "                                                                 \n",
      " dense_38 (Dense)            (None, 10)                5130      \n",
      "                                                                 \n",
      "=================================================================\n",
      "Total params: 669,706\n",
      "Trainable params: 669,706\n",
      "Non-trainable params: 0\n",
      "_________________________________________________________________\n",
      "Epoch 1/20\n",
      "469/469 [==============================] - 4s 8ms/step - loss: 3.8668 - accuracy: 0.1072 - val_loss: 2.3022 - val_accuracy: 0.1135\n",
      "Epoch 2/20\n",
      "469/469 [==============================] - 3s 6ms/step - loss: 2.3051 - accuracy: 0.1165 - val_loss: 2.3078 - val_accuracy: 0.1126\n",
      "Epoch 3/20\n",
      "469/469 [==============================] - 3s 6ms/step - loss: 2.2933 - accuracy: 0.1206 - val_loss: 2.3033 - val_accuracy: 0.1123\n",
      "Epoch 4/20\n",
      "469/469 [==============================] - 3s 6ms/step - loss: 2.2823 - accuracy: 0.1255 - val_loss: 2.3042 - val_accuracy: 0.1130\n",
      "Epoch 5/20\n",
      "469/469 [==============================] - 3s 7ms/step - loss: 2.2740 - accuracy: 0.1287 - val_loss: 2.3033 - val_accuracy: 0.1134\n",
      "Epoch 6/20\n",
      "469/469 [==============================] - 3s 6ms/step - loss: 2.2692 - accuracy: 0.1314 - val_loss: 2.3021 - val_accuracy: 0.1132\n",
      "Epoch 7/20\n",
      "469/469 [==============================] - 3s 6ms/step - loss: 2.2706 - accuracy: 0.1325 - val_loss: 2.3016 - val_accuracy: 0.1137\n",
      "Epoch 8/20\n",
      "469/469 [==============================] - 3s 6ms/step - loss: 2.2660 - accuracy: 0.1342 - val_loss: 2.3051 - val_accuracy: 0.1133\n",
      "Epoch 9/20\n",
      "469/469 [==============================] - 3s 6ms/step - loss: 2.2633 - accuracy: 0.1357 - val_loss: 2.3048 - val_accuracy: 0.1135\n",
      "Epoch 10/20\n",
      "469/469 [==============================] - 3s 6ms/step - loss: 2.2620 - accuracy: 0.1371 - val_loss: 2.3045 - val_accuracy: 0.1135\n",
      "Epoch 11/20\n",
      "469/469 [==============================] - 3s 6ms/step - loss: 2.2607 - accuracy: 0.1388 - val_loss: 2.3043 - val_accuracy: 0.1138\n",
      "Epoch 12/20\n",
      "469/469 [==============================] - 3s 7ms/step - loss: 2.2604 - accuracy: 0.1399 - val_loss: 2.3051 - val_accuracy: 0.1133\n",
      "Epoch 13/20\n",
      "469/469 [==============================] - 3s 6ms/step - loss: 2.2595 - accuracy: 0.1402 - val_loss: 2.3046 - val_accuracy: 0.1134\n",
      "Epoch 14/20\n",
      "469/469 [==============================] - 3s 6ms/step - loss: 2.2540 - accuracy: 0.1417 - val_loss: 2.3055 - val_accuracy: 0.1127\n",
      "Epoch 15/20\n",
      "469/469 [==============================] - 3s 6ms/step - loss: 2.2552 - accuracy: 0.1420 - val_loss: 2.3056 - val_accuracy: 0.1137\n",
      "Epoch 16/20\n",
      "469/469 [==============================] - 3s 6ms/step - loss: 2.2531 - accuracy: 0.1430 - val_loss: 2.3041 - val_accuracy: 0.1131\n",
      "Epoch 17/20\n",
      "469/469 [==============================] - 3s 6ms/step - loss: 2.2556 - accuracy: 0.1431 - val_loss: 2.3023 - val_accuracy: 0.1134\n",
      "Epoch 18/20\n",
      "469/469 [==============================] - 3s 6ms/step - loss: 2.2508 - accuracy: 0.1454 - val_loss: 2.3048 - val_accuracy: 0.1137\n",
      "Epoch 19/20\n",
      "469/469 [==============================] - 3s 7ms/step - loss: 2.2498 - accuracy: 0.1439 - val_loss: 2.3028 - val_accuracy: 0.1133\n",
      "Epoch 20/20\n",
      "469/469 [==============================] - 3s 6ms/step - loss: 2.2507 - accuracy: 0.1447 - val_loss: 2.3046 - val_accuracy: 0.1135\n",
      "Test loss: 2.3046178817749023\n",
      "Test accuracy: 0.11349999904632568\n"
     ]
    }
   ],
   "source": [
    "batch_size = 128\n",
    "num_classes = 10\n",
    "epochs = 20\n",
    "\n",
    "model = Sequential()\n",
    "model.add(Dense(512, activation='relu', input_shape=(784,)))\n",
    "model.add(Dropout(0.2))\n",
    "model.add(Dense(512, activation='relu'))\n",
    "model.add(Dropout(0.2))\n",
    "model.add(Dense(10, activation='softmax'))\n",
    "\n",
    "model.summary()\n",
    "\n",
    "model.compile(loss='categorical_crossentropy',\n",
    "              optimizer=RMSprop(),\n",
    "              metrics=['accuracy'])\n",
    "\n",
    "history = model.fit(x_train_noise10, y_train,\n",
    "                    batch_size=batch_size,\n",
    "                    epochs=epochs,\n",
    "                    verbose=1,\n",
    "                    validation_data=(x_test_noise10, y_test))\n",
    "score_nn10 = model.evaluate(x_test_noise10, y_test, verbose=0)\n",
    "print('Test loss:', score_nn10[0])\n",
    "print('Test accuracy:', score_nn10[1])"
   ]
  },
  {
   "cell_type": "code",
   "execution_count": 32,
   "metadata": {},
   "outputs": [
    {
     "name": "stdout",
     "output_type": "stream",
     "text": [
      "Model: \"sequential_15\"\n",
      "_________________________________________________________________\n",
      " Layer (type)                Output Shape              Param #   \n",
      "=================================================================\n",
      " dense_45 (Dense)            (None, 512)               401920    \n",
      "                                                                 \n",
      " dropout_30 (Dropout)        (None, 512)               0         \n",
      "                                                                 \n",
      " dense_46 (Dense)            (None, 512)               262656    \n",
      "                                                                 \n",
      " dropout_31 (Dropout)        (None, 512)               0         \n",
      "                                                                 \n",
      " dense_47 (Dense)            (None, 10)                5130      \n",
      "                                                                 \n",
      "=================================================================\n",
      "Total params: 669,706\n",
      "Trainable params: 669,706\n",
      "Non-trainable params: 0\n",
      "_________________________________________________________________\n",
      "Epoch 1/20\n",
      "469/469 [==============================] - 4s 8ms/step - loss: 12.1866 - accuracy: 0.1081 - val_loss: 2.3023 - val_accuracy: 0.1137\n",
      "Epoch 2/20\n",
      "469/469 [==============================] - 3s 7ms/step - loss: 2.3130 - accuracy: 0.1136 - val_loss: 2.3017 - val_accuracy: 0.1136\n",
      "Epoch 3/20\n",
      "469/469 [==============================] - 3s 6ms/step - loss: 2.3124 - accuracy: 0.1142 - val_loss: 2.3025 - val_accuracy: 0.1135\n",
      "Epoch 4/20\n",
      "469/469 [==============================] - 3s 6ms/step - loss: 2.3099 - accuracy: 0.1148 - val_loss: 2.3017 - val_accuracy: 0.1135\n",
      "Epoch 5/20\n",
      "469/469 [==============================] - 3s 6ms/step - loss: 2.3065 - accuracy: 0.1152 - val_loss: 2.3027 - val_accuracy: 0.1136\n",
      "Epoch 6/20\n",
      "469/469 [==============================] - 3s 6ms/step - loss: 2.3090 - accuracy: 0.1157 - val_loss: 2.3019 - val_accuracy: 0.1135\n",
      "Epoch 7/20\n",
      "469/469 [==============================] - 3s 6ms/step - loss: 2.3041 - accuracy: 0.1160 - val_loss: 2.3014 - val_accuracy: 0.1134\n",
      "Epoch 8/20\n",
      "469/469 [==============================] - 3s 6ms/step - loss: 2.3050 - accuracy: 0.1159 - val_loss: 2.3015 - val_accuracy: 0.1134\n",
      "Epoch 9/20\n",
      "469/469 [==============================] - 3s 6ms/step - loss: 2.3010 - accuracy: 0.1163 - val_loss: 2.3011 - val_accuracy: 0.1135\n",
      "Epoch 10/20\n",
      "469/469 [==============================] - 3s 6ms/step - loss: 2.2996 - accuracy: 0.1168 - val_loss: 2.3009 - val_accuracy: 0.1135\n",
      "Epoch 11/20\n",
      "469/469 [==============================] - 3s 6ms/step - loss: 2.2991 - accuracy: 0.1164 - val_loss: 2.3011 - val_accuracy: 0.1135\n",
      "Epoch 12/20\n",
      "469/469 [==============================] - 3s 6ms/step - loss: 2.2967 - accuracy: 0.1168 - val_loss: 2.3010 - val_accuracy: 0.1137\n",
      "Epoch 13/20\n",
      "469/469 [==============================] - 3s 6ms/step - loss: 2.3010 - accuracy: 0.1168 - val_loss: 2.3013 - val_accuracy: 0.1136\n",
      "Epoch 14/20\n",
      "469/469 [==============================] - 3s 6ms/step - loss: 2.2986 - accuracy: 0.1171 - val_loss: 2.3011 - val_accuracy: 0.1135\n",
      "Epoch 15/20\n",
      "469/469 [==============================] - 3s 7ms/step - loss: 2.2990 - accuracy: 0.1171 - val_loss: 2.3010 - val_accuracy: 0.1135\n",
      "Epoch 16/20\n",
      "469/469 [==============================] - 3s 6ms/step - loss: 2.2960 - accuracy: 0.1176 - val_loss: 2.3016 - val_accuracy: 0.1136\n",
      "Epoch 17/20\n",
      "469/469 [==============================] - 3s 7ms/step - loss: 2.2936 - accuracy: 0.1177 - val_loss: 2.3011 - val_accuracy: 0.1135\n",
      "Epoch 18/20\n",
      "469/469 [==============================] - 3s 6ms/step - loss: 2.2953 - accuracy: 0.1176 - val_loss: 2.3011 - val_accuracy: 0.1135\n",
      "Epoch 19/20\n",
      "469/469 [==============================] - 3s 6ms/step - loss: 2.2992 - accuracy: 0.1176 - val_loss: 2.3034 - val_accuracy: 0.1135\n",
      "Epoch 20/20\n",
      "469/469 [==============================] - 3s 6ms/step - loss: 2.2955 - accuracy: 0.1176 - val_loss: 2.3009 - val_accuracy: 0.1135\n",
      "Test loss: 2.3009188175201416\n",
      "Test accuracy: 0.11349999904632568\n"
     ]
    }
   ],
   "source": [
    "batch_size = 128\n",
    "num_classes = 10\n",
    "epochs = 20\n",
    "\n",
    "model = Sequential()\n",
    "model.add(Dense(512, activation='relu', input_shape=(784,)))\n",
    "model.add(Dropout(0.2))\n",
    "model.add(Dense(512, activation='relu'))\n",
    "model.add(Dropout(0.2))\n",
    "model.add(Dense(10, activation='softmax'))\n",
    "\n",
    "model.summary()\n",
    "\n",
    "model.compile(loss='categorical_crossentropy',\n",
    "              optimizer=RMSprop(),\n",
    "              metrics=['accuracy'])\n",
    "\n",
    "history = model.fit(x_train_noise50, y_train,\n",
    "                    batch_size=batch_size,\n",
    "                    epochs=epochs,\n",
    "                    verbose=1,\n",
    "                    validation_data=(x_test_noise50, y_test))\n",
    "score_nn50 = model.evaluate(x_test_noise50, y_test, verbose=0)\n",
    "print('Test loss:', score_nn50[0])\n",
    "print('Test accuracy:', score_nn50[1])"
   ]
  },
  {
   "cell_type": "code",
   "execution_count": 40,
   "metadata": {},
   "outputs": [
    {
     "name": "stdout",
     "output_type": "stream",
     "text": [
      "Model: \"sequential_16\"\n",
      "_________________________________________________________________\n",
      " Layer (type)                Output Shape              Param #   \n",
      "=================================================================\n",
      " dense_48 (Dense)            (None, 512)               401920    \n",
      "                                                                 \n",
      " dropout_32 (Dropout)        (None, 512)               0         \n",
      "                                                                 \n",
      " dense_49 (Dense)            (None, 512)               262656    \n",
      "                                                                 \n",
      " dropout_33 (Dropout)        (None, 512)               0         \n",
      "                                                                 \n",
      " dense_50 (Dense)            (None, 10)                5130      \n",
      "                                                                 \n",
      "=================================================================\n",
      "Total params: 669,706\n",
      "Trainable params: 669,706\n",
      "Non-trainable params: 0\n",
      "_________________________________________________________________\n",
      "Epoch 1/20\n",
      "469/469 [==============================] - 4s 8ms/step - loss: 21.6476 - accuracy: 0.1103 - val_loss: 2.3032 - val_accuracy: 0.1134\n",
      "Epoch 2/20\n",
      "469/469 [==============================] - 3s 7ms/step - loss: 2.3326 - accuracy: 0.1131 - val_loss: 2.3010 - val_accuracy: 0.1134\n",
      "Epoch 3/20\n",
      "469/469 [==============================] - 4s 8ms/step - loss: 2.3199 - accuracy: 0.1137 - val_loss: 2.3013 - val_accuracy: 0.1133\n",
      "Epoch 4/20\n",
      "469/469 [==============================] - 4s 7ms/step - loss: 2.3186 - accuracy: 0.1141 - val_loss: 2.3024 - val_accuracy: 0.1134\n",
      "Epoch 5/20\n",
      "469/469 [==============================] - 3s 7ms/step - loss: 2.3162 - accuracy: 0.1145 - val_loss: 2.3016 - val_accuracy: 0.1135\n",
      "Epoch 6/20\n",
      "469/469 [==============================] - 3s 6ms/step - loss: 2.3127 - accuracy: 0.1147 - val_loss: 2.3012 - val_accuracy: 0.1134\n",
      "Epoch 7/20\n",
      "469/469 [==============================] - 3s 7ms/step - loss: 2.3106 - accuracy: 0.1148 - val_loss: 2.3010 - val_accuracy: 0.1135\n",
      "Epoch 8/20\n",
      "469/469 [==============================] - 4s 8ms/step - loss: 2.3088 - accuracy: 0.1148 - val_loss: 2.3015 - val_accuracy: 0.1135\n",
      "Epoch 9/20\n",
      "469/469 [==============================] - 3s 6ms/step - loss: 2.3051 - accuracy: 0.1151 - val_loss: 2.3011 - val_accuracy: 0.1135\n",
      "Epoch 10/20\n",
      "469/469 [==============================] - 3s 6ms/step - loss: 2.3043 - accuracy: 0.1151 - val_loss: 2.3010 - val_accuracy: 0.1135\n",
      "Epoch 11/20\n",
      "469/469 [==============================] - 3s 6ms/step - loss: 2.3007 - accuracy: 0.1153 - val_loss: 2.3010 - val_accuracy: 0.1135\n",
      "Epoch 12/20\n",
      "469/469 [==============================] - 3s 6ms/step - loss: 2.3068 - accuracy: 0.1154 - val_loss: 2.3010 - val_accuracy: 0.1135\n",
      "Epoch 13/20\n",
      "469/469 [==============================] - 3s 6ms/step - loss: 2.3032 - accuracy: 0.1157 - val_loss: 2.3011 - val_accuracy: 0.1135\n",
      "Epoch 14/20\n",
      "469/469 [==============================] - 3s 7ms/step - loss: 2.3063 - accuracy: 0.1157 - val_loss: 2.3023 - val_accuracy: 0.1135\n",
      "Epoch 15/20\n",
      "469/469 [==============================] - 3s 6ms/step - loss: 2.3037 - accuracy: 0.1156 - val_loss: 2.3014 - val_accuracy: 0.1135\n",
      "Epoch 16/20\n",
      "469/469 [==============================] - 3s 6ms/step - loss: 2.3031 - accuracy: 0.1156 - val_loss: 2.3010 - val_accuracy: 0.1135\n",
      "Epoch 17/20\n",
      "469/469 [==============================] - 3s 7ms/step - loss: 2.3043 - accuracy: 0.1159 - val_loss: 2.3011 - val_accuracy: 0.1135\n",
      "Epoch 18/20\n",
      "469/469 [==============================] - 3s 7ms/step - loss: 2.3053 - accuracy: 0.1158 - val_loss: 2.3012 - val_accuracy: 0.1135\n",
      "Epoch 19/20\n",
      "469/469 [==============================] - 3s 6ms/step - loss: 2.2993 - accuracy: 0.1158 - val_loss: 2.3010 - val_accuracy: 0.1135\n",
      "Epoch 20/20\n",
      "469/469 [==============================] - 3s 6ms/step - loss: 2.3016 - accuracy: 0.1158 - val_loss: 2.3010 - val_accuracy: 0.1135\n",
      "Test loss: 2.300942897796631\n",
      "Test accuracy: 0.1136000007390976\n"
     ]
    }
   ],
   "source": [
    "batch_size = 128\n",
    "num_classes = 10\n",
    "epochs = 20\n",
    "\n",
    "model = Sequential()\n",
    "model.add(Dense(512, activation='relu', input_shape=(784,)))\n",
    "model.add(Dropout(0.2))\n",
    "model.add(Dense(512, activation='relu'))\n",
    "model.add(Dropout(0.2))\n",
    "model.add(Dense(10, activation='softmax'))\n",
    "\n",
    "model.summary()\n",
    "\n",
    "model.compile(loss='categorical_crossentropy',\n",
    "              optimizer=RMSprop(),\n",
    "              metrics=['accuracy'])\n",
    "\n",
    "history = model.fit(x_train_noise1, y_train,\n",
    "                    batch_size=batch_size,\n",
    "                    epochs=epochs,\n",
    "                    verbose=1,\n",
    "                    validation_data=(x_test_noise50, y_test))\n",
    "score_nn1 = model.evaluate(x_test_noise1, y_test, verbose=0)\n",
    "print('Test loss:', score_nn1[0])\n",
    "print('Test accuracy:', score_nn1[1])"
   ]
  },
  {
   "cell_type": "code",
   "execution_count": 41,
   "metadata": {},
   "outputs": [
    {
     "name": "stdout",
     "output_type": "stream",
     "text": [
      "Model: \"sequential_17\"\n",
      "_________________________________________________________________\n",
      " Layer (type)                Output Shape              Param #   \n",
      "=================================================================\n",
      " dense_51 (Dense)            (None, 512)               401920    \n",
      "                                                                 \n",
      " dropout_34 (Dropout)        (None, 512)               0         \n",
      "                                                                 \n",
      " dense_52 (Dense)            (None, 512)               262656    \n",
      "                                                                 \n",
      " dropout_35 (Dropout)        (None, 512)               0         \n",
      "                                                                 \n",
      " dense_53 (Dense)            (None, 10)                5130      \n",
      "                                                                 \n",
      "=================================================================\n",
      "Total params: 669,706\n",
      "Trainable params: 669,706\n",
      "Non-trainable params: 0\n",
      "_________________________________________________________________\n",
      "Epoch 1/20\n",
      "469/469 [==============================] - 4s 8ms/step - loss: 36.6212 - accuracy: 0.1083 - val_loss: 2.3022 - val_accuracy: 0.1135\n",
      "Epoch 2/20\n",
      "469/469 [==============================] - 3s 6ms/step - loss: 2.3491 - accuracy: 0.1128 - val_loss: 2.3014 - val_accuracy: 0.1133\n",
      "Epoch 3/20\n",
      "469/469 [==============================] - 3s 6ms/step - loss: 2.3278 - accuracy: 0.1129 - val_loss: 2.3011 - val_accuracy: 0.1135\n",
      "Epoch 4/20\n",
      "469/469 [==============================] - 3s 6ms/step - loss: 2.3256 - accuracy: 0.1132 - val_loss: 2.3011 - val_accuracy: 0.1135\n",
      "Epoch 5/20\n",
      "469/469 [==============================] - 3s 6ms/step - loss: 2.3203 - accuracy: 0.1135 - val_loss: 2.3010 - val_accuracy: 0.1135\n",
      "Epoch 6/20\n",
      "469/469 [==============================] - 3s 7ms/step - loss: 2.3225 - accuracy: 0.1136 - val_loss: 2.3010 - val_accuracy: 0.1135\n",
      "Epoch 7/20\n",
      "469/469 [==============================] - 3s 6ms/step - loss: 2.3155 - accuracy: 0.1136 - val_loss: 2.3010 - val_accuracy: 0.1135\n",
      "Epoch 8/20\n",
      "469/469 [==============================] - 3s 6ms/step - loss: 2.3112 - accuracy: 0.1136 - val_loss: 2.3010 - val_accuracy: 0.1135\n",
      "Epoch 9/20\n",
      "469/469 [==============================] - 3s 7ms/step - loss: 2.3114 - accuracy: 0.1137 - val_loss: 2.3009 - val_accuracy: 0.1135\n",
      "Epoch 10/20\n",
      "469/469 [==============================] - 3s 6ms/step - loss: 2.3112 - accuracy: 0.1138 - val_loss: 2.3012 - val_accuracy: 0.1135\n",
      "Epoch 11/20\n",
      "469/469 [==============================] - 3s 6ms/step - loss: 2.3111 - accuracy: 0.1138 - val_loss: 2.3010 - val_accuracy: 0.1135\n",
      "Epoch 12/20\n",
      "469/469 [==============================] - 3s 6ms/step - loss: 2.3155 - accuracy: 0.1140 - val_loss: 2.3011 - val_accuracy: 0.1135\n",
      "Epoch 13/20\n",
      "469/469 [==============================] - 3s 7ms/step - loss: 2.3085 - accuracy: 0.1140 - val_loss: 2.3010 - val_accuracy: 0.1135\n",
      "Epoch 14/20\n",
      "469/469 [==============================] - 3s 6ms/step - loss: 2.3061 - accuracy: 0.1142 - val_loss: 2.3009 - val_accuracy: 0.1135\n",
      "Epoch 15/20\n",
      "469/469 [==============================] - 3s 6ms/step - loss: 2.3065 - accuracy: 0.1143 - val_loss: 2.3010 - val_accuracy: 0.1135\n",
      "Epoch 16/20\n",
      "469/469 [==============================] - 3s 7ms/step - loss: 2.3008 - accuracy: 0.1142 - val_loss: 2.3010 - val_accuracy: 0.1135\n",
      "Epoch 17/20\n",
      "469/469 [==============================] - 3s 7ms/step - loss: 2.3048 - accuracy: 0.1143 - val_loss: 2.3010 - val_accuracy: 0.1135\n",
      "Epoch 18/20\n",
      "469/469 [==============================] - 3s 6ms/step - loss: 2.3009 - accuracy: 0.1143 - val_loss: 2.3010 - val_accuracy: 0.1135\n",
      "Epoch 19/20\n",
      "469/469 [==============================] - 3s 7ms/step - loss: 2.3053 - accuracy: 0.1145 - val_loss: 2.3010 - val_accuracy: 0.1135\n",
      "Epoch 20/20\n",
      "469/469 [==============================] - 3s 6ms/step - loss: 2.3013 - accuracy: 0.1144 - val_loss: 2.3010 - val_accuracy: 0.1135\n",
      "Test loss: 2.3010334968566895\n",
      "Test accuracy: 0.11349999904632568\n"
     ]
    }
   ],
   "source": [
    "batch_size = 128\n",
    "num_classes = 10\n",
    "epochs = 20\n",
    "\n",
    "model = Sequential()\n",
    "model.add(Dense(512, activation='relu', input_shape=(784,)))\n",
    "model.add(Dropout(0.2))\n",
    "model.add(Dense(512, activation='relu'))\n",
    "model.add(Dropout(0.2))\n",
    "model.add(Dense(10, activation='softmax'))\n",
    "\n",
    "model.summary()\n",
    "\n",
    "model.compile(loss='categorical_crossentropy',\n",
    "              optimizer=RMSprop(),\n",
    "              metrics=['accuracy'])\n",
    "\n",
    "history = model.fit(x_train_noise2, y_train,\n",
    "                    batch_size=batch_size,\n",
    "                    epochs=epochs,\n",
    "                    verbose=1,\n",
    "                    validation_data=(x_test_noise2, y_test))\n",
    "score_nn2 = model.evaluate(x_test_noise2, y_test, verbose=0)\n",
    "print('Test loss:', score_nn2[0])\n",
    "print('Test accuracy:', score_nn2[1])"
   ]
  },
  {
   "cell_type": "code",
   "execution_count": 42,
   "metadata": {},
   "outputs": [
    {
     "name": "stdout",
     "output_type": "stream",
     "text": [
      "Model: \"sequential_18\"\n",
      "_________________________________________________________________\n",
      " Layer (type)                Output Shape              Param #   \n",
      "=================================================================\n",
      " dense_54 (Dense)            (None, 512)               401920    \n",
      "                                                                 \n",
      " dropout_36 (Dropout)        (None, 512)               0         \n",
      "                                                                 \n",
      " dense_55 (Dense)            (None, 512)               262656    \n",
      "                                                                 \n",
      " dropout_37 (Dropout)        (None, 512)               0         \n",
      "                                                                 \n",
      " dense_56 (Dense)            (None, 10)                5130      \n",
      "                                                                 \n",
      "=================================================================\n",
      "Total params: 669,706\n",
      "Trainable params: 669,706\n",
      "Non-trainable params: 0\n",
      "_________________________________________________________________\n",
      "Epoch 1/20\n",
      "469/469 [==============================] - 4s 8ms/step - loss: 76.5918 - accuracy: 0.1070 - val_loss: 2.3032 - val_accuracy: 0.1135\n",
      "Epoch 2/20\n",
      "469/469 [==============================] - 3s 7ms/step - loss: 2.3895 - accuracy: 0.1125 - val_loss: 2.3014 - val_accuracy: 0.1135\n",
      "Epoch 3/20\n",
      "469/469 [==============================] - 3s 7ms/step - loss: 2.3526 - accuracy: 0.1127 - val_loss: 2.3043 - val_accuracy: 0.1134\n",
      "Epoch 4/20\n",
      "469/469 [==============================] - 3s 7ms/step - loss: 2.3438 - accuracy: 0.1130 - val_loss: 2.3010 - val_accuracy: 0.1135\n",
      "Epoch 5/20\n",
      "469/469 [==============================] - 4s 8ms/step - loss: 2.3303 - accuracy: 0.1129 - val_loss: 2.3030 - val_accuracy: 0.1135\n",
      "Epoch 6/20\n",
      "469/469 [==============================] - 4s 8ms/step - loss: 2.3284 - accuracy: 0.1129 - val_loss: 2.3014 - val_accuracy: 0.1134\n",
      "Epoch 7/20\n",
      "469/469 [==============================] - 3s 7ms/step - loss: 2.3214 - accuracy: 0.1131 - val_loss: 2.3023 - val_accuracy: 0.1134\n",
      "Epoch 8/20\n",
      "469/469 [==============================] - 3s 7ms/step - loss: 2.3215 - accuracy: 0.1132 - val_loss: 2.3010 - val_accuracy: 0.1135\n",
      "Epoch 9/20\n",
      "469/469 [==============================] - 3s 6ms/step - loss: 2.3171 - accuracy: 0.1133 - val_loss: 2.3010 - val_accuracy: 0.1135\n",
      "Epoch 10/20\n",
      "469/469 [==============================] - 3s 6ms/step - loss: 2.3147 - accuracy: 0.1134 - val_loss: 2.3011 - val_accuracy: 0.1135\n",
      "Epoch 11/20\n",
      "469/469 [==============================] - 3s 7ms/step - loss: 2.3187 - accuracy: 0.1132 - val_loss: 2.3010 - val_accuracy: 0.1135\n",
      "Epoch 12/20\n",
      "469/469 [==============================] - 3s 7ms/step - loss: 2.3192 - accuracy: 0.1133 - val_loss: 2.3010 - val_accuracy: 0.1135\n",
      "Epoch 13/20\n",
      "469/469 [==============================] - 3s 7ms/step - loss: 2.3122 - accuracy: 0.1132 - val_loss: 2.3011 - val_accuracy: 0.1135\n",
      "Epoch 14/20\n",
      "469/469 [==============================] - 3s 7ms/step - loss: 2.3130 - accuracy: 0.1133 - val_loss: 2.3010 - val_accuracy: 0.1135\n",
      "Epoch 15/20\n",
      "469/469 [==============================] - 3s 6ms/step - loss: 2.3113 - accuracy: 0.1135 - val_loss: 2.3010 - val_accuracy: 0.1135\n",
      "Epoch 16/20\n",
      "469/469 [==============================] - 3s 6ms/step - loss: 2.3057 - accuracy: 0.1135 - val_loss: 2.3010 - val_accuracy: 0.1135\n",
      "Epoch 17/20\n",
      "469/469 [==============================] - 3s 7ms/step - loss: 2.3083 - accuracy: 0.1135 - val_loss: 2.3013 - val_accuracy: 0.1135\n",
      "Epoch 18/20\n",
      "469/469 [==============================] - 3s 6ms/step - loss: 2.3125 - accuracy: 0.1136 - val_loss: 2.3010 - val_accuracy: 0.1135\n",
      "Epoch 19/20\n",
      "469/469 [==============================] - 3s 6ms/step - loss: 2.3084 - accuracy: 0.1136 - val_loss: 2.3010 - val_accuracy: 0.1135\n",
      "Epoch 20/20\n",
      "469/469 [==============================] - 3s 6ms/step - loss: 2.3079 - accuracy: 0.1135 - val_loss: 2.3010 - val_accuracy: 0.1135\n",
      "Test loss: 2.3010404109954834\n",
      "Test accuracy: 0.11349999904632568\n"
     ]
    }
   ],
   "source": [
    "batch_size = 128\n",
    "num_classes = 10\n",
    "epochs = 20\n",
    "\n",
    "model = Sequential()\n",
    "model.add(Dense(512, activation='relu', input_shape=(784,)))\n",
    "model.add(Dropout(0.2))\n",
    "model.add(Dense(512, activation='relu'))\n",
    "model.add(Dropout(0.2))\n",
    "model.add(Dense(10, activation='softmax'))\n",
    "\n",
    "model.summary()\n",
    "\n",
    "model.compile(loss='categorical_crossentropy',\n",
    "              optimizer=RMSprop(),\n",
    "              metrics=['accuracy'])\n",
    "\n",
    "history = model.fit(x_train_noise4, y_train,\n",
    "                    batch_size=batch_size,\n",
    "                    epochs=epochs,\n",
    "                    verbose=1,\n",
    "                    validation_data=(x_test_noise4, y_test))\n",
    "score_nn4 = model.evaluate(x_test_noise4, y_test, verbose=0)\n",
    "print('Test loss:', score_nn4[0])\n",
    "print('Test accuracy:', score_nn4[1])"
   ]
  },
  {
   "cell_type": "markdown",
   "metadata": {},
   "source": [
    "## Visualization of Loss"
   ]
  },
  {
   "cell_type": "code",
   "execution_count": 43,
   "metadata": {},
   "outputs": [
    {
     "data": {
      "text/plain": [
       "<matplotlib.legend.Legend at 0x7fe36dc80a00>"
      ]
     },
     "execution_count": 43,
     "metadata": {},
     "output_type": "execute_result"
    },
    {
     "data": {
      "image/png": "[encoded data removed]",
      "text/plain": [
       "<Figure size 640x480 with 1 Axes>"
      ]
     },
     "metadata": {},
     "output_type": "display_data"
    }
   ],
   "source": [
    "nn_losses = np.array([score_nn[0], score_nn10[0], score_nn50[0], score_nn1[0], score_nn2[0], score_nn4[0]])\n",
    "plt.plot(nn_losses, label='NN Losses', color='b')\n",
    "plt.legend()"
   ]
  },
  {
   "cell_type": "code",
   "execution_count": 44,
   "metadata": {},
   "outputs": [
    {
     "data": {
      "text/plain": [
       "array([0.13065316, 2.30461788, 2.30091882, 2.3009429 , 2.3010335 ,\n",
       "       2.30104041])"
      ]
     },
     "execution_count": 44,
     "metadata": {},
     "output_type": "execute_result"
    }
   ],
   "source": [
    "nn_losses"
   ]
  },
  {
   "cell_type": "markdown",
   "metadata": {},
   "source": [
    "## Visualization of Accuracy"
   ]
  },
  {
   "cell_type": "code",
   "execution_count": 46,
   "metadata": {},
   "outputs": [
    {
     "data": {
      "text/plain": [
       "<matplotlib.legend.Legend at 0x7fe3193e4df0>"
      ]
     },
     "execution_count": 46,
     "metadata": {},
     "output_type": "execute_result"
    },
    {
     "data": {
      "image/png": "[encoded data removed]",
      "text/plain": [
       "<Figure size 640x480 with 1 Axes>"
      ]
     },
     "metadata": {},
     "output_type": "display_data"
    }
   ],
   "source": [
    "nn_accur = np.array([score_nn[1], score_nn10[1], score_nn50[1], score_nn1[1], score_nn2[1], score_nn4[1]])\n",
    "plt.plot(nn_accur, label='NN Accuracy', color='b')\n",
    "plt.legend()"
   ]
  },
  {
   "cell_type": "code",
   "execution_count": 47,
   "metadata": {},
   "outputs": [
    {
     "data": {
      "text/plain": [
       "array([0.98290002, 0.1135    , 0.1135    , 0.1136    , 0.1135    ,\n",
       "       0.1135    ])"
      ]
     },
     "execution_count": 47,
     "metadata": {},
     "output_type": "execute_result"
    }
   ],
   "source": [
    "nn_accur"
   ]
  },
  {
   "cell_type": "markdown",
   "metadata": {},
   "source": [
    "### As seen in the visualizations of both loss and accuracy above, adding noise (.10 to .50 to 1 to 2 to 4) greatly increases loss and decreases accuracy- even at a low level. It is interesting though that once noise wrecks the result, adding more noise does not further degrade accuracy or increase loss. "
   ]
  },
  {
   "cell_type": "code",
   "execution_count": null,
   "metadata": {},
   "outputs": [],
   "source": []
  }
 ],
 "metadata": {
  "kernelspec": {
   "display_name": "Python 3 (ipykernel)",
   "language": "python",
   "name": "python3"
  },
  "language_info": {
   "codemirror_mode": {
    "name": "ipython",
    "version": 3
   },
   "file_extension": ".py",
   "mimetype": "text/x-python",
   "name": "python",
   "nbconvert_exporter": "python",
   "pygments_lexer": "ipython3",
   "version": "3.9.16"
  }
 },
 "nbformat": 4,
 "nbformat_minor": 2
}
