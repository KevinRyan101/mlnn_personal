{
 "cells": [
  {
   "cell_type": "markdown",
   "metadata": {},
   "source": [
    "# Neural Networks image recognition - ConvNet\n",
    "\n",
    "1. Add random noise (see below on `size parameter` on [`np.random.normal`](https://numpy.org/doc/stable/reference/random/generated/numpy.random.normal.html)) to the images in training and testing. **Make sure each image gets a different noise feature added to it. Inspect by printing out several images. Note - the `size` parameter should match the data. **\n",
    "2. Compare the `accuracy` of train and val after N epochs for MLNN with and without noise. \n",
    "3. Vary the amount of noise by changing the `scale` parameter in `np.random.normal` by a factor. Use `.1, .5, 1.0, 2.0, 4.0` for the `scale` and keep track of the `accuracy` for training and validation and plot these results.\n",
    "4. Compare these results with the previous week where we used a MultiLayer Perceptron (this week we use a ConvNet). "
   ]
  },
  {
   "cell_type": "markdown",
   "metadata": {},
   "source": [
    "# Neural Networks - Image Recognition "
   ]
  },
  {
   "cell_type": "code",
   "execution_count": 1,
   "metadata": {},
   "outputs": [
    {
     "name": "stderr",
     "output_type": "stream",
     "text": [
      "2023-04-16 13:44:10.507163: I tensorflow/core/platform/cpu_feature_guard.cc:182] This TensorFlow binary is optimized to use available CPU instructions in performance-critical operations.\n",
      "To enable the following instructions: AVX2 FMA, in other operations, rebuild TensorFlow with the appropriate compiler flags.\n"
     ]
    }
   ],
   "source": [
    "import keras\n",
    "from keras.datasets import mnist\n",
    "from keras.models import Sequential\n",
    "from keras.optimizers import RMSprop\n",
    "from keras.layers import Dense, Dropout, Flatten\n",
    "from keras.layers import Conv2D, MaxPooling2D\n",
    "from keras import backend"
   ]
  },
  {
   "cell_type": "code",
   "execution_count": 12,
   "metadata": {},
   "outputs": [],
   "source": [
    "import matplotlib.pyplot as  plt\n",
    "%matplotlib inline"
   ]
  },
  {
   "cell_type": "markdown",
   "metadata": {},
   "source": [
    "## Conv Net\n",
    "Trains a simple convnet on the MNIST dataset.\n",
    "Gets to 99.25% test accuracy after 12 epochs\n",
    "(there is still a lot of margin for parameter tuning).\n"
   ]
  },
  {
   "cell_type": "code",
   "execution_count": 2,
   "metadata": {
    "scrolled": true
   },
   "outputs": [
    {
     "name": "stdout",
     "output_type": "stream",
     "text": [
      "x_train shape: (60000, 28, 28, 1)\n",
      "60000 train samples\n",
      "10000 test samples\n"
     ]
    }
   ],
   "source": [
    "# input image dimensions\n",
    "img_rows, img_cols = 28, 28\n",
    "\n",
    "# the data, shuffled and split between train and test sets\n",
    "(x_train, y_train), (x_test, y_test) = mnist.load_data()\n",
    "\n",
    "if backend.image_data_format() == 'channels_first':\n",
    "    x_train = x_train.reshape(x_train.shape[0], 1, img_rows, img_cols)\n",
    "    x_test = x_test.reshape(x_test.shape[0], 1, img_rows, img_cols)\n",
    "    input_shape = (1, img_rows, img_cols)\n",
    "else:\n",
    "    x_train = x_train.reshape(x_train.shape[0], img_rows, img_cols, 1)\n",
    "    x_test = x_test.reshape(x_test.shape[0], img_rows, img_cols, 1)\n",
    "    input_shape = (img_rows, img_cols, 1)\n",
    "\n",
    "x_train = x_train.astype('float32')\n",
    "x_test = x_test.astype('float32')\n",
    "x_train /= 255\n",
    "x_test /= 255\n",
    "print('x_train shape:', x_train.shape)\n",
    "print(x_train.shape[0], 'train samples')\n",
    "print(x_test.shape[0], 'test samples')"
   ]
  },
  {
   "cell_type": "code",
   "execution_count": 3,
   "metadata": {},
   "outputs": [
    {
     "name": "stdout",
     "output_type": "stream",
     "text": [
      "Epoch 1/12\n",
      "469/469 [==============================] - 49s 104ms/step - loss: 2.2885 - accuracy: 0.1440 - val_loss: 2.2592 - val_accuracy: 0.3264\n",
      "Epoch 2/12\n",
      "469/469 [==============================] - 49s 105ms/step - loss: 2.2407 - accuracy: 0.2569 - val_loss: 2.2015 - val_accuracy: 0.5702\n",
      "Epoch 3/12\n",
      "469/469 [==============================] - 49s 104ms/step - loss: 2.1799 - accuracy: 0.3637 - val_loss: 2.1268 - val_accuracy: 0.6406\n",
      "Epoch 4/12\n",
      "469/469 [==============================] - 49s 105ms/step - loss: 2.1005 - accuracy: 0.4412 - val_loss: 2.0256 - val_accuracy: 0.6694\n",
      "Epoch 5/12\n",
      "469/469 [==============================] - 49s 104ms/step - loss: 1.9931 - accuracy: 0.4965 - val_loss: 1.8867 - val_accuracy: 0.6966\n",
      "Epoch 6/12\n",
      "469/469 [==============================] - 51s 108ms/step - loss: 1.8498 - accuracy: 0.5449 - val_loss: 1.7087 - val_accuracy: 0.7202\n",
      "Epoch 7/12\n",
      "469/469 [==============================] - 49s 104ms/step - loss: 1.6871 - accuracy: 0.5766 - val_loss: 1.5036 - val_accuracy: 0.7490\n",
      "Epoch 8/12\n",
      "469/469 [==============================] - 49s 105ms/step - loss: 1.5103 - accuracy: 0.6079 - val_loss: 1.2956 - val_accuracy: 0.7721\n",
      "Epoch 9/12\n",
      "469/469 [==============================] - 48s 103ms/step - loss: 1.3488 - accuracy: 0.6342 - val_loss: 1.1148 - val_accuracy: 0.7920\n",
      "Epoch 10/12\n",
      "469/469 [==============================] - 48s 102ms/step - loss: 1.2158 - accuracy: 0.6575 - val_loss: 0.9712 - val_accuracy: 0.8074\n",
      "Epoch 11/12\n",
      "469/469 [==============================] - 49s 104ms/step - loss: 1.1107 - accuracy: 0.6790 - val_loss: 0.8613 - val_accuracy: 0.8199\n",
      "Epoch 12/12\n",
      "469/469 [==============================] - 49s 104ms/step - loss: 1.0231 - accuracy: 0.6976 - val_loss: 0.7772 - val_accuracy: 0.8309\n",
      "Test loss: 0.7771702408790588\n",
      "Test accuracy: 0.8309000134468079\n"
     ]
    }
   ],
   "source": [
    "batch_size = 128\n",
    "num_classes = 10\n",
    "epochs = 12\n",
    "\n",
    "# convert class vectors to binary class matrices\n",
    "y_train = keras.utils.to_categorical(y_train, num_classes)\n",
    "y_test = keras.utils.to_categorical(y_test, num_classes)\n",
    "\n",
    "model = Sequential()\n",
    "model.add(Conv2D(32, kernel_size=(3, 3),\n",
    "                 activation='relu',\n",
    "                 input_shape=input_shape))\n",
    "model.add(Conv2D(64, (3, 3), activation='relu'))\n",
    "model.add(MaxPooling2D(pool_size=(2, 2)))\n",
    "model.add(Dropout(0.25))\n",
    "model.add(Flatten())\n",
    "model.add(Dense(128, activation='relu'))\n",
    "model.add(Dropout(0.5))\n",
    "model.add(Dense(num_classes, activation='softmax'))\n",
    "\n",
    "model.compile(loss=keras.losses.categorical_crossentropy,\n",
    "              optimizer=keras.optimizers.Adadelta(),\n",
    "              metrics=['accuracy'])\n",
    "\n",
    "model.fit(x_train, y_train,\n",
    "          batch_size=batch_size,\n",
    "          epochs=epochs,\n",
    "          verbose=1,\n",
    "          validation_data=(x_test, y_test))\n",
    "score = model.evaluate(x_test, y_test, verbose=0)\n",
    "print('Test loss:', score[0])\n",
    "print('Test accuracy:', score[1])"
   ]
  },
  {
   "cell_type": "code",
   "execution_count": 4,
   "metadata": {},
   "outputs": [],
   "source": [
    "import numpy as np\n",
    "\n",
    "#Use .1, .5, 1.0, 2.0, 4.0\n",
    "\n",
    "x_train_noise10 = x_train + np.random.normal(0, 255*.10, x_train.shape)\n",
    "x_test_noise10 = x_test + np.random.normal(0, 255*.10, x_test.shape)\n",
    "\n",
    "x_train_noise50 = x_train + np.random.normal(0, 255*.50, x_train.shape)\n",
    "x_test_noise50 = x_test + np.random.normal(0, 255*.50, x_test.shape)\n",
    "\n",
    "x_train_noise1 = x_train + np.random.normal(0, 255*1, x_train.shape)\n",
    "x_test_noise1 = x_test + np.random.normal(0, 255*1, x_test.shape)\n",
    "\n",
    "x_train_noise2 = x_train + np.random.normal(0, 255*2, x_train.shape)\n",
    "x_test_noise2 = x_test + np.random.normal(0, 255*2, x_test.shape)\n",
    "\n",
    "x_train_noise4 = x_train + np.random.normal(0, 255*4, x_train.shape)\n",
    "x_test_noise4 = x_test + np.random.normal(0, 255*4, x_test.shape)"
   ]
  },
  {
   "cell_type": "code",
   "execution_count": 5,
   "metadata": {},
   "outputs": [
    {
     "name": "stdout",
     "output_type": "stream",
     "text": [
      "Epoch 1/12\n",
      "469/469 [==============================] - 51s 107ms/step - loss: 8.1077 - accuracy: 0.1035 - val_loss: 2.5031 - val_accuracy: 0.1005\n",
      "Epoch 2/12\n",
      "469/469 [==============================] - 49s 105ms/step - loss: 2.9662 - accuracy: 0.0992 - val_loss: 2.3037 - val_accuracy: 0.0955\n",
      "Epoch 3/12\n",
      "469/469 [==============================] - 49s 104ms/step - loss: 2.4012 - accuracy: 0.0990 - val_loss: 2.3026 - val_accuracy: 0.0972\n",
      "Epoch 4/12\n",
      "469/469 [==============================] - 48s 102ms/step - loss: 2.3395 - accuracy: 0.0982 - val_loss: 2.3026 - val_accuracy: 0.0974\n",
      "Epoch 5/12\n",
      "469/469 [==============================] - 48s 103ms/step - loss: 2.3217 - accuracy: 0.0991 - val_loss: 2.3026 - val_accuracy: 0.0972\n",
      "Epoch 6/12\n",
      "469/469 [==============================] - 50s 107ms/step - loss: 2.3169 - accuracy: 0.0976 - val_loss: 2.3026 - val_accuracy: 0.0972\n",
      "Epoch 7/12\n",
      "469/469 [==============================] - 49s 103ms/step - loss: 2.3122 - accuracy: 0.1073 - val_loss: 2.3026 - val_accuracy: 0.1135\n",
      "Epoch 8/12\n",
      "469/469 [==============================] - 48s 102ms/step - loss: 2.3103 - accuracy: 0.1119 - val_loss: 2.3026 - val_accuracy: 0.1135\n",
      "Epoch 9/12\n",
      "469/469 [==============================] - 48s 102ms/step - loss: 2.3091 - accuracy: 0.1114 - val_loss: 2.3026 - val_accuracy: 0.1135\n",
      "Epoch 10/12\n",
      "469/469 [==============================] - 48s 103ms/step - loss: 2.3078 - accuracy: 0.1122 - val_loss: 2.3025 - val_accuracy: 0.1135\n",
      "Epoch 11/12\n",
      "469/469 [==============================] - 48s 103ms/step - loss: 2.3072 - accuracy: 0.1116 - val_loss: 2.3025 - val_accuracy: 0.1135\n",
      "Epoch 12/12\n",
      "469/469 [==============================] - 48s 102ms/step - loss: 2.3065 - accuracy: 0.1119 - val_loss: 2.3025 - val_accuracy: 0.1135\n",
      "Test loss: 2.30253529548645\n",
      "Test accuracy: 0.11349999904632568\n"
     ]
    }
   ],
   "source": [
    "batch_size = 128\n",
    "num_classes = 10\n",
    "epochs = 12\n",
    "\n",
    "# convert class vectors to binary class matrices\n",
    "# y_train = keras.utils.to_categorical(y_train, num_classes)\n",
    "# y_test = keras.utils.to_categorical(y_test, num_classes)\n",
    "\n",
    "model = Sequential()\n",
    "model.add(Conv2D(32, kernel_size=(3, 3),\n",
    "                 activation='relu',\n",
    "                 input_shape=input_shape))\n",
    "model.add(Conv2D(64, (3, 3), activation='relu'))\n",
    "model.add(MaxPooling2D(pool_size=(2, 2)))\n",
    "model.add(Dropout(0.25))\n",
    "model.add(Flatten())\n",
    "model.add(Dense(128, activation='relu'))\n",
    "model.add(Dropout(0.5))\n",
    "model.add(Dense(num_classes, activation='softmax'))\n",
    "\n",
    "model.compile(loss=keras.losses.categorical_crossentropy,\n",
    "              optimizer=keras.optimizers.Adadelta(),\n",
    "              metrics=['accuracy'])\n",
    "\n",
    "model.fit(x_train_noise10, y_train,\n",
    "          batch_size=batch_size,\n",
    "          epochs=epochs,\n",
    "          verbose=1,\n",
    "          validation_data=(x_test_noise10, y_test))\n",
    "score_cn10 = model.evaluate(x_test_noise10, y_test, verbose=0)\n",
    "print('Test loss:', score_cn10[0])\n",
    "print('Test accuracy:', score_cn10[1])"
   ]
  },
  {
   "cell_type": "code",
   "execution_count": 6,
   "metadata": {},
   "outputs": [
    {
     "name": "stdout",
     "output_type": "stream",
     "text": [
      "Epoch 1/12\n",
      "469/469 [==============================] - 50s 105ms/step - loss: 33.9229 - accuracy: 0.0996 - val_loss: 5.0691 - val_accuracy: 0.0987\n",
      "Epoch 2/12\n",
      "469/469 [==============================] - 49s 104ms/step - loss: 7.5355 - accuracy: 0.1017 - val_loss: 2.3117 - val_accuracy: 0.1132\n",
      "Epoch 3/12\n",
      "469/469 [==============================] - 48s 101ms/step - loss: 2.9161 - accuracy: 0.1076 - val_loss: 2.3030 - val_accuracy: 0.1130\n",
      "Epoch 4/12\n",
      "469/469 [==============================] - 50s 106ms/step - loss: 2.4958 - accuracy: 0.1098 - val_loss: 2.3027 - val_accuracy: 0.1135\n",
      "Epoch 5/12\n",
      "469/469 [==============================] - 47s 101ms/step - loss: 2.4007 - accuracy: 0.1106 - val_loss: 2.3026 - val_accuracy: 0.1135\n",
      "Epoch 6/12\n",
      "469/469 [==============================] - 47s 100ms/step - loss: 2.3654 - accuracy: 0.1122 - val_loss: 2.3026 - val_accuracy: 0.1135\n",
      "Epoch 7/12\n",
      "469/469 [==============================] - 48s 103ms/step - loss: 2.3505 - accuracy: 0.1113 - val_loss: 2.3026 - val_accuracy: 0.1135\n",
      "Epoch 8/12\n",
      "469/469 [==============================] - 47s 101ms/step - loss: 2.3398 - accuracy: 0.1115 - val_loss: 2.3025 - val_accuracy: 0.1135\n",
      "Epoch 9/12\n",
      "469/469 [==============================] - 47s 101ms/step - loss: 2.3315 - accuracy: 0.1117 - val_loss: 2.3025 - val_accuracy: 0.1135\n",
      "Epoch 10/12\n",
      "469/469 [==============================] - 48s 102ms/step - loss: 2.3253 - accuracy: 0.1121 - val_loss: 2.3025 - val_accuracy: 0.1135\n",
      "Epoch 11/12\n",
      "469/469 [==============================] - 48s 102ms/step - loss: 2.3232 - accuracy: 0.1122 - val_loss: 2.3025 - val_accuracy: 0.1135\n",
      "Epoch 12/12\n",
      "469/469 [==============================] - 48s 103ms/step - loss: 2.3174 - accuracy: 0.1124 - val_loss: 2.3025 - val_accuracy: 0.1135\n",
      "Test loss: 2.302517890930176\n",
      "Test accuracy: 0.11349999904632568\n"
     ]
    }
   ],
   "source": [
    "batch_size = 128\n",
    "num_classes = 10\n",
    "epochs = 12\n",
    "\n",
    "# convert class vectors to binary class matrices\n",
    "# y_train = keras.utils.to_categorical(y_train, num_classes)\n",
    "# y_test = keras.utils.to_categorical(y_test, num_classes)\n",
    "\n",
    "model = Sequential()\n",
    "model.add(Conv2D(32, kernel_size=(3, 3),\n",
    "                 activation='relu',\n",
    "                 input_shape=input_shape))\n",
    "model.add(Conv2D(64, (3, 3), activation='relu'))\n",
    "model.add(MaxPooling2D(pool_size=(2, 2)))\n",
    "model.add(Dropout(0.25))\n",
    "model.add(Flatten())\n",
    "model.add(Dense(128, activation='relu'))\n",
    "model.add(Dropout(0.5))\n",
    "model.add(Dense(num_classes, activation='softmax'))\n",
    "\n",
    "model.compile(loss=keras.losses.categorical_crossentropy,\n",
    "              optimizer=keras.optimizers.Adadelta(),\n",
    "              metrics=['accuracy'])\n",
    "\n",
    "model.fit(x_train_noise50, y_train,\n",
    "          batch_size=batch_size,\n",
    "          epochs=epochs,\n",
    "          verbose=1,\n",
    "          validation_data=(x_test_noise50, y_test))\n",
    "score_cn50 = model.evaluate(x_test_noise50, y_test, verbose=0)\n",
    "print('Test loss:', score_cn50[0])\n",
    "print('Test accuracy:', score_cn50[1])"
   ]
  },
  {
   "cell_type": "code",
   "execution_count": 7,
   "metadata": {},
   "outputs": [
    {
     "name": "stdout",
     "output_type": "stream",
     "text": [
      "Epoch 1/12\n",
      "469/469 [==============================] - 49s 104ms/step - loss: 66.7454 - accuracy: 0.1012 - val_loss: 7.8296 - val_accuracy: 0.1026\n",
      "Epoch 2/12\n",
      "469/469 [==============================] - 54s 116ms/step - loss: 12.6091 - accuracy: 0.0983 - val_loss: 2.3154 - val_accuracy: 0.0979\n",
      "Epoch 3/12\n",
      "469/469 [==============================] - 50s 107ms/step - loss: 3.5323 - accuracy: 0.1000 - val_loss: 2.3033 - val_accuracy: 0.0982\n",
      "Epoch 4/12\n",
      "469/469 [==============================] - 49s 105ms/step - loss: 2.7072 - accuracy: 0.0973 - val_loss: 2.3026 - val_accuracy: 0.0981\n",
      "Epoch 5/12\n",
      "469/469 [==============================] - 50s 106ms/step - loss: 2.5153 - accuracy: 0.1100 - val_loss: 2.3026 - val_accuracy: 0.1135\n",
      "Epoch 6/12\n",
      "469/469 [==============================] - 51s 108ms/step - loss: 2.4454 - accuracy: 0.1116 - val_loss: 2.3025 - val_accuracy: 0.1135\n",
      "Epoch 7/12\n",
      "469/469 [==============================] - 50s 106ms/step - loss: 2.3941 - accuracy: 0.1120 - val_loss: 2.3025 - val_accuracy: 0.1135\n",
      "Epoch 8/12\n",
      "469/469 [==============================] - 50s 106ms/step - loss: 2.3795 - accuracy: 0.1119 - val_loss: 2.3025 - val_accuracy: 0.1135\n",
      "Epoch 9/12\n",
      "469/469 [==============================] - 49s 106ms/step - loss: 2.3584 - accuracy: 0.1121 - val_loss: 2.3025 - val_accuracy: 0.1135\n",
      "Epoch 10/12\n",
      "469/469 [==============================] - 54s 115ms/step - loss: 2.3541 - accuracy: 0.1121 - val_loss: 2.3025 - val_accuracy: 0.1135\n",
      "Epoch 11/12\n",
      "469/469 [==============================] - 50s 107ms/step - loss: 2.3435 - accuracy: 0.1123 - val_loss: 2.3025 - val_accuracy: 0.1135\n",
      "Epoch 12/12\n",
      "469/469 [==============================] - 50s 107ms/step - loss: 2.3382 - accuracy: 0.1121 - val_loss: 2.3025 - val_accuracy: 0.1135\n",
      "Test loss: 2.30252742767334\n",
      "Test accuracy: 0.11349999904632568\n"
     ]
    }
   ],
   "source": [
    "batch_size = 128\n",
    "num_classes = 10\n",
    "epochs = 12\n",
    "\n",
    "# convert class vectors to binary class matrices\n",
    "# y_train = keras.utils.to_categorical(y_train, num_classes)\n",
    "# y_test = keras.utils.to_categorical(y_test, num_classes)\n",
    "\n",
    "model = Sequential()\n",
    "model.add(Conv2D(32, kernel_size=(3, 3),\n",
    "                 activation='relu',\n",
    "                 input_shape=input_shape))\n",
    "model.add(Conv2D(64, (3, 3), activation='relu'))\n",
    "model.add(MaxPooling2D(pool_size=(2, 2)))\n",
    "model.add(Dropout(0.25))\n",
    "model.add(Flatten())\n",
    "model.add(Dense(128, activation='relu'))\n",
    "model.add(Dropout(0.5))\n",
    "model.add(Dense(num_classes, activation='softmax'))\n",
    "\n",
    "model.compile(loss=keras.losses.categorical_crossentropy,\n",
    "              optimizer=keras.optimizers.Adadelta(),\n",
    "              metrics=['accuracy'])\n",
    "\n",
    "model.fit(x_train_noise1, y_train,\n",
    "          batch_size=batch_size,\n",
    "          epochs=epochs,\n",
    "          verbose=1,\n",
    "          validation_data=(x_test_noise1, y_test))\n",
    "score_cn1 = model.evaluate(x_test_noise1, y_test, verbose=0)\n",
    "print('Test loss:', score_cn1[0])\n",
    "print('Test accuracy:', score_cn1[1])"
   ]
  },
  {
   "cell_type": "code",
   "execution_count": 8,
   "metadata": {},
   "outputs": [
    {
     "name": "stdout",
     "output_type": "stream",
     "text": [
      "Epoch 1/12\n",
      "469/469 [==============================] - 57s 121ms/step - loss: 139.7692 - accuracy: 0.0992 - val_loss: 21.7722 - val_accuracy: 0.1029\n",
      "Epoch 2/12\n",
      "469/469 [==============================] - 51s 108ms/step - loss: 29.4011 - accuracy: 0.0983 - val_loss: 2.4419 - val_accuracy: 0.0996\n",
      "Epoch 3/12\n",
      "469/469 [==============================] - 50s 106ms/step - loss: 5.7966 - accuracy: 0.1025 - val_loss: 2.3050 - val_accuracy: 0.1010\n",
      "Epoch 4/12\n",
      "469/469 [==============================] - 50s 107ms/step - loss: 3.3580 - accuracy: 0.1018 - val_loss: 2.3028 - val_accuracy: 0.1010\n",
      "Epoch 5/12\n",
      "469/469 [==============================] - 49s 105ms/step - loss: 2.8401 - accuracy: 0.1027 - val_loss: 2.3026 - val_accuracy: 0.1010\n",
      "Epoch 6/12\n",
      "469/469 [==============================] - 51s 108ms/step - loss: 2.6126 - accuracy: 0.1022 - val_loss: 2.3026 - val_accuracy: 0.1010\n",
      "Epoch 7/12\n",
      "469/469 [==============================] - 52s 112ms/step - loss: 2.5325 - accuracy: 0.1087 - val_loss: 2.3025 - val_accuracy: 0.1135\n",
      "Epoch 8/12\n",
      "469/469 [==============================] - 55s 118ms/step - loss: 2.4879 - accuracy: 0.1117 - val_loss: 2.3025 - val_accuracy: 0.1135\n",
      "Epoch 9/12\n",
      "469/469 [==============================] - 50s 106ms/step - loss: 2.4352 - accuracy: 0.1122 - val_loss: 2.3025 - val_accuracy: 0.1135\n",
      "Epoch 10/12\n",
      "469/469 [==============================] - 55s 117ms/step - loss: 2.3925 - accuracy: 0.1122 - val_loss: 2.3025 - val_accuracy: 0.1135\n",
      "Epoch 11/12\n",
      "469/469 [==============================] - 51s 108ms/step - loss: 2.4053 - accuracy: 0.1119 - val_loss: 2.3025 - val_accuracy: 0.1135\n",
      "Epoch 12/12\n",
      "469/469 [==============================] - 53s 112ms/step - loss: 2.3840 - accuracy: 0.1122 - val_loss: 2.3025 - val_accuracy: 0.1135\n",
      "Test loss: 2.3025193214416504\n",
      "Test accuracy: 0.11349999904632568\n"
     ]
    }
   ],
   "source": [
    "batch_size = 128\n",
    "num_classes = 10\n",
    "epochs = 12\n",
    "\n",
    "# convert class vectors to binary class matrices\n",
    "# y_train = keras.utils.to_categorical(y_train, num_classes)\n",
    "# y_test = keras.utils.to_categorical(y_test, num_classes)\n",
    "\n",
    "model = Sequential()\n",
    "model.add(Conv2D(32, kernel_size=(3, 3),\n",
    "                 activation='relu',\n",
    "                 input_shape=input_shape))\n",
    "model.add(Conv2D(64, (3, 3), activation='relu'))\n",
    "model.add(MaxPooling2D(pool_size=(2, 2)))\n",
    "model.add(Dropout(0.25))\n",
    "model.add(Flatten())\n",
    "model.add(Dense(128, activation='relu'))\n",
    "model.add(Dropout(0.5))\n",
    "model.add(Dense(num_classes, activation='softmax'))\n",
    "\n",
    "model.compile(loss=keras.losses.categorical_crossentropy,\n",
    "              optimizer=keras.optimizers.Adadelta(),\n",
    "              metrics=['accuracy'])\n",
    "\n",
    "model.fit(x_train_noise2, y_train,\n",
    "          batch_size=batch_size,\n",
    "          epochs=epochs,\n",
    "          verbose=1,\n",
    "          validation_data=(x_test_noise2, y_test))\n",
    "score_cn2 = model.evaluate(x_test_noise2, y_test, verbose=0)\n",
    "print('Test loss:', score_cn2[0])\n",
    "print('Test accuracy:', score_cn2[1])"
   ]
  },
  {
   "cell_type": "code",
   "execution_count": 9,
   "metadata": {},
   "outputs": [
    {
     "name": "stdout",
     "output_type": "stream",
     "text": [
      "Epoch 1/12\n",
      "469/469 [==============================] - 52s 110ms/step - loss: 274.1149 - accuracy: 0.1022 - val_loss: 33.0794 - val_accuracy: 0.0964\n",
      "Epoch 2/12\n",
      "469/469 [==============================] - 48s 103ms/step - loss: 48.8600 - accuracy: 0.0998 - val_loss: 2.3936 - val_accuracy: 0.0899\n",
      "Epoch 3/12\n",
      "469/469 [==============================] - 49s 105ms/step - loss: 7.8283 - accuracy: 0.1028 - val_loss: 2.3037 - val_accuracy: 0.1031\n",
      "Epoch 4/12\n",
      "469/469 [==============================] - 51s 110ms/step - loss: 4.0036 - accuracy: 0.1034 - val_loss: 2.3027 - val_accuracy: 0.1028\n",
      "Epoch 5/12\n",
      "469/469 [==============================] - 55s 116ms/step - loss: 3.1702 - accuracy: 0.1049 - val_loss: 2.3026 - val_accuracy: 0.1028\n",
      "Epoch 6/12\n",
      "469/469 [==============================] - 50s 108ms/step - loss: 2.8708 - accuracy: 0.1042 - val_loss: 2.3026 - val_accuracy: 0.1028\n",
      "Epoch 7/12\n",
      "469/469 [==============================] - 51s 109ms/step - loss: 2.7141 - accuracy: 0.1044 - val_loss: 2.3026 - val_accuracy: 0.1028\n",
      "Epoch 8/12\n",
      "469/469 [==============================] - 56s 120ms/step - loss: 2.6113 - accuracy: 0.1043 - val_loss: 2.3026 - val_accuracy: 0.1028\n",
      "Epoch 9/12\n",
      "469/469 [==============================] - 56s 119ms/step - loss: 2.5351 - accuracy: 0.1047 - val_loss: 2.3026 - val_accuracy: 0.1028\n",
      "Epoch 10/12\n",
      "469/469 [==============================] - 52s 112ms/step - loss: 2.5026 - accuracy: 0.1045 - val_loss: 2.3026 - val_accuracy: 0.1028\n",
      "Epoch 11/12\n",
      "469/469 [==============================] - 52s 111ms/step - loss: 2.4721 - accuracy: 0.1040 - val_loss: 2.3026 - val_accuracy: 0.1028\n",
      "Epoch 12/12\n",
      "469/469 [==============================] - 55s 118ms/step - loss: 2.4412 - accuracy: 0.1046 - val_loss: 2.3025 - val_accuracy: 0.1028\n",
      "Test loss: 2.302546977996826\n",
      "Test accuracy: 0.10279999673366547\n"
     ]
    }
   ],
   "source": [
    "batch_size = 128\n",
    "num_classes = 10\n",
    "epochs = 12\n",
    "\n",
    "# convert class vectors to binary class matrices\n",
    "# y_train = keras.utils.to_categorical(y_train, num_classes)\n",
    "# y_test = keras.utils.to_categorical(y_test, num_classes)\n",
    "\n",
    "model = Sequential()\n",
    "model.add(Conv2D(32, kernel_size=(3, 3),\n",
    "                 activation='relu',\n",
    "                 input_shape=input_shape))\n",
    "model.add(Conv2D(64, (3, 3), activation='relu'))\n",
    "model.add(MaxPooling2D(pool_size=(2, 2)))\n",
    "model.add(Dropout(0.25))\n",
    "model.add(Flatten())\n",
    "model.add(Dense(128, activation='relu'))\n",
    "model.add(Dropout(0.5))\n",
    "model.add(Dense(num_classes, activation='softmax'))\n",
    "\n",
    "model.compile(loss=keras.losses.categorical_crossentropy,\n",
    "              optimizer=keras.optimizers.Adadelta(),\n",
    "              metrics=['accuracy'])\n",
    "\n",
    "model.fit(x_train_noise4, y_train,\n",
    "          batch_size=batch_size,\n",
    "          epochs=epochs,\n",
    "          verbose=1,\n",
    "          validation_data=(x_test_noise4, y_test))\n",
    "score_cn4 = model.evaluate(x_test_noise4, y_test, verbose=0)\n",
    "print('Test loss:', score_cn4[0])\n",
    "print('Test accuracy:', score_cn4[1])"
   ]
  },
  {
   "cell_type": "markdown",
   "metadata": {},
   "source": [
    "## Visualization of Loss"
   ]
  },
  {
   "cell_type": "code",
   "execution_count": 13,
   "metadata": {},
   "outputs": [
    {
     "data": {
      "text/plain": [
       "<matplotlib.legend.Legend at 0x7f82db0cfac0>"
      ]
     },
     "execution_count": 13,
     "metadata": {},
     "output_type": "execute_result"
    },
    {
     "data": {
      "image/png": "[encoded data removed]",
      "text/plain": [
       "<Figure size 640x480 with 1 Axes>"
      ]
     },
     "metadata": {},
     "output_type": "display_data"
    }
   ],
   "source": [
    "cn_losses = np.array([score[0], score_cn10[0], score_cn50[0], score_cn1[0], score_cn2[0], score_cn4[0]])\n",
    "plt.plot(cn_losses, label='CN Losses', color='b')\n",
    "plt.legend()"
   ]
  },
  {
   "cell_type": "code",
   "execution_count": 14,
   "metadata": {},
   "outputs": [
    {
     "data": {
      "text/plain": [
       "array([0.77717024, 2.3025353 , 2.30251789, 2.30252743, 2.30251932,\n",
       "       2.30254698])"
      ]
     },
     "execution_count": 14,
     "metadata": {},
     "output_type": "execute_result"
    }
   ],
   "source": [
    "cn_losses"
   ]
  },
  {
   "cell_type": "markdown",
   "metadata": {},
   "source": [
    "## Visualization of Accuracy"
   ]
  },
  {
   "cell_type": "code",
   "execution_count": 15,
   "metadata": {},
   "outputs": [
    {
     "data": {
      "text/plain": [
       "<matplotlib.legend.Legend at 0x7f82fa036700>"
      ]
     },
     "execution_count": 15,
     "metadata": {},
     "output_type": "execute_result"
    },
    {
     "data": {
      "image/png": "[encoded data removed]",
      "text/plain": [
       "<Figure size 640x480 with 1 Axes>"
      ]
     },
     "metadata": {},
     "output_type": "display_data"
    }
   ],
   "source": [
    "cn_accur = np.array([score[1], score_cn10[1], score_cn50[1], score_cn1[1], score_cn2[1], score_cn4[1]])\n",
    "plt.plot(cn_accur, label='CN Accuracy', color='b')\n",
    "plt.legend()"
   ]
  },
  {
   "cell_type": "code",
   "execution_count": 16,
   "metadata": {},
   "outputs": [
    {
     "data": {
      "text/plain": [
       "array([0.83090001, 0.1135    , 0.1135    , 0.1135    , 0.1135    ,\n",
       "       0.1028    ])"
      ]
     },
     "execution_count": 16,
     "metadata": {},
     "output_type": "execute_result"
    }
   ],
   "source": [
    "cn_accur"
   ]
  },
  {
   "cell_type": "markdown",
   "metadata": {},
   "source": [
    "### As seen in the visualizations of both loss and accuracy above (and in the previous assignment), adding noise (.10 to .50 to 1 to 2 to 4) greatly increases loss and decreases accuracy- even at a low level. It is interesting though that once noise wrecks the result, adding more noise does not further degrade accuracy or increase loss. "
   ]
  },
  {
   "cell_type": "code",
   "execution_count": null,
   "metadata": {},
   "outputs": [],
   "source": []
  }
 ],
 "metadata": {
  "kernelspec": {
   "display_name": "Python 3 (ipykernel)",
   "language": "python",
   "name": "python3"
  },
  "language_info": {
   "codemirror_mode": {
    "name": "ipython",
    "version": 3
   },
   "file_extension": ".py",
   "mimetype": "text/x-python",
   "name": "python",
   "nbconvert_exporter": "python",
   "pygments_lexer": "ipython3",
   "version": "3.9.16"
  }
 },
 "nbformat": 4,
 "nbformat_minor": 2
}
