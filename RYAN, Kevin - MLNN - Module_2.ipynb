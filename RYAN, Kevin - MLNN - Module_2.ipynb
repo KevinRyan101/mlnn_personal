{
 "cells": [
  {
   "cell_type": "code",
   "execution_count": 2,
   "metadata": {},
   "outputs": [],
   "source": [
    "import numpy as np\n",
    "import pandas as pd\n",
    "import scipy as sp"
   ]
  },
  {
   "cell_type": "code",
   "execution_count": 3,
   "metadata": {},
   "outputs": [],
   "source": [
    "%matplotlib inline\n",
    "import matplotlib.pyplot as plt\n",
    "plt.style.use('ggplot')"
   ]
  },
  {
   "cell_type": "code",
   "execution_count": 4,
   "metadata": {},
   "outputs": [
    {
     "name": "stdout",
     "output_type": "stream",
     "text": [
      "Overwriting hw_data.csv\n"
     ]
    }
   ],
   "source": [
    "%%file hw_data.csv\n",
    "id,sex,weight,height\n",
    "1,M,190,77\n",
    "2,F,120,70\n",
    "3,F,110,68\n",
    "4,M,150,72\n",
    "5,O,120,66\n",
    "6,M,120,60\n",
    "7,F,140,70"
   ]
  },
  {
   "cell_type": "markdown",
   "metadata": {},
   "source": [
    "# Python"
   ]
  },
  {
   "cell_type": "markdown",
   "metadata": {},
   "source": [
    "## 1. Finish creating the following function that takes a list and returns the average value.\n",
    "\n",
    "Add each element in the list to `total` and return `total`\n",
    "\n",
    "### DO NOT use a library function nor `sum()`"
   ]
  },
  {
   "cell_type": "code",
   "execution_count": 33,
   "metadata": {},
   "outputs": [
    {
     "name": "stdout",
     "output_type": "stream",
     "text": [
      "The total of my list is 274.\n",
      "The number of values in my list is 9.\n",
      "The average value of an item in my list is 30.444444444444443.\n"
     ]
    }
   ],
   "source": [
    "my_list = [5,15,22,74,11,131,6,8,2]\n",
    "\n",
    "total = 5 + 15 + 22 + 74 + 11 + 131 + 6 + 8 + 2\n",
    "print(\"The total of my list is \" + str(total) + \".\")\n",
    "\n",
    "count = len(my_list)\n",
    "print(\"The number of values in my list is \" + str(count) + \".\")\n",
    "\n",
    "avg_val = total / count\n",
    "print(\"The average value of an item in my list is \" + str(avg_val) + \".\")\n"
   ]
  },
  {
   "cell_type": "markdown",
   "metadata": {},
   "source": [
    "## 2. Using a Dictionary keep track of the count of numbers (or items) from a list"
   ]
  },
  {
   "cell_type": "code",
   "execution_count": 31,
   "metadata": {},
   "outputs": [
    {
     "name": "stdout",
     "output_type": "stream",
     "text": [
      "{1: 2, 2: 2, 4: 1, 3: 1, 5: 1, 9: 1}\n"
     ]
    }
   ],
   "source": [
    "def counts(my_list):\n",
    "    counts = dict()\n",
    "    for item in my_list:\n",
    "        if item in counts:\n",
    "            counts[item] += 1\n",
    "        else:\n",
    "            counts[item] = 1\n",
    "    return counts\n",
    "\n",
    "print(counts([1,2,1,4,3,2,5,9]))  "
   ]
  },
  {
   "cell_type": "markdown",
   "metadata": {},
   "source": [
    "## 3.  Using the `counts()` function you created above and the `.split()` function, return a dictionary of most occuring words from the following paragraph. Bonus, remove punctuation from words."
   ]
  },
  {
   "cell_type": "code",
   "execution_count": 39,
   "metadata": {},
   "outputs": [
    {
     "data": {
      "text/plain": [
       "{'For': 6,\n",
       " 'A': 16,\n",
       " 'Minute': 1,\n",
       " 'Or': 2,\n",
       " 'Two': 2,\n",
       " 'She': 8,\n",
       " 'Stood': 1,\n",
       " 'Looking': 2,\n",
       " 'At': 7,\n",
       " 'The': 34,\n",
       " 'House': 2,\n",
       " 'And': 19,\n",
       " 'Wondering': 1,\n",
       " 'What': 2,\n",
       " 'To': 15,\n",
       " 'Do': 1,\n",
       " 'Next': 2,\n",
       " 'When': 2,\n",
       " 'Suddenly': 1,\n",
       " 'Footman': 10,\n",
       " 'In': 9,\n",
       " 'Livery': 3,\n",
       " 'Came': 2,\n",
       " 'Running': 1,\n",
       " 'Out': 5,\n",
       " 'Of': 9,\n",
       " 'Wood': 3,\n",
       " 'Considered': 1,\n",
       " 'Him': 3,\n",
       " 'Be': 2,\n",
       " 'Because': 3,\n",
       " 'He': 6,\n",
       " 'Was': 8,\n",
       " 'Otherwise': 1,\n",
       " 'Judging': 1,\n",
       " 'By': 3,\n",
       " 'His': 6,\n",
       " 'Face': 2,\n",
       " 'Only': 2,\n",
       " 'Would': 1,\n",
       " 'Have': 1,\n",
       " 'Called': 1,\n",
       " 'Fish': 3,\n",
       " 'Rapped': 1,\n",
       " 'Loudly': 1,\n",
       " 'Door': 6,\n",
       " 'With': 2,\n",
       " 'Knuckles': 1,\n",
       " 'It': 4,\n",
       " 'Opened': 2,\n",
       " 'Another': 1,\n",
       " 'Round': 1,\n",
       " 'Large': 3,\n",
       " 'Eyes': 2,\n",
       " 'Like': 1,\n",
       " 'Frog': 2,\n",
       " 'Both': 2,\n",
       " 'Footmen': 1,\n",
       " 'Alice': 5,\n",
       " 'Noticed': 1,\n",
       " 'Had': 4,\n",
       " 'Powdered': 1,\n",
       " 'Hair': 1,\n",
       " 'That': 3,\n",
       " 'Curled': 1,\n",
       " 'All': 3,\n",
       " 'Over': 2,\n",
       " 'Their': 3,\n",
       " 'Heads': 1,\n",
       " 'Felt': 1,\n",
       " 'Very': 2,\n",
       " 'Curious': 1,\n",
       " 'Know': 2,\n",
       " 'About': 1,\n",
       " 'Crept': 1,\n",
       " 'Little': 2,\n",
       " 'Way': 1,\n",
       " 'Listen': 1,\n",
       " 'Began': 1,\n",
       " 'Producing': 1,\n",
       " 'From': 3,\n",
       " 'Under': 1,\n",
       " 'Arm': 1,\n",
       " 'Great': 2,\n",
       " 'Letter': 1,\n",
       " 'Nearly': 2,\n",
       " 'As': 4,\n",
       " 'Himself': 1,\n",
       " 'This': 4,\n",
       " 'Handed': 1,\n",
       " 'Other': 2,\n",
       " 'Saying': 1,\n",
       " 'Solemn': 2,\n",
       " 'Tone': 2,\n",
       " 'Duchess': 2,\n",
       " 'An': 2,\n",
       " 'Invitation': 2,\n",
       " 'Queen': 2,\n",
       " 'Play': 2,\n",
       " 'Croquet': 2,\n",
       " 'Repeated': 2,\n",
       " 'Same': 2,\n",
       " 'Changing': 1,\n",
       " 'Order': 1,\n",
       " 'Words': 1,\n",
       " 'Then': 3,\n",
       " 'They': 2,\n",
       " 'Bowed': 1,\n",
       " 'Low': 1,\n",
       " 'Curls': 1,\n",
       " 'Got': 1,\n",
       " 'Entangled': 1,\n",
       " 'Together': 1,\n",
       " 'Laughed': 1,\n",
       " 'So': 2,\n",
       " 'Much': 1,\n",
       " 'Run': 1,\n",
       " 'Back': 1,\n",
       " 'Into': 3,\n",
       " 'Fear': 1,\n",
       " 'Hearing': 1,\n",
       " 'Her': 2,\n",
       " 'Peeped': 1,\n",
       " 'Gone': 1,\n",
       " 'Sitting': 1,\n",
       " 'On': 4,\n",
       " 'Ground': 1,\n",
       " 'Near': 1,\n",
       " 'Staring': 1,\n",
       " 'Stupidly': 1,\n",
       " 'Up': 3,\n",
       " 'Sky': 2,\n",
       " 'Went': 2,\n",
       " 'Timidly': 1,\n",
       " 'Knocked': 1,\n",
       " 'There': 3,\n",
       " 'S': 2,\n",
       " 'No': 2,\n",
       " 'Sort': 1,\n",
       " 'Use': 1,\n",
       " 'Knocking': 2,\n",
       " 'Said': 3,\n",
       " 'Reasons': 1,\n",
       " 'First': 1,\n",
       " 'I': 5,\n",
       " 'M': 1,\n",
       " 'Side': 1,\n",
       " 'You': 6,\n",
       " 'Are': 2,\n",
       " 'Secondly': 1,\n",
       " 'Re': 1,\n",
       " 'Making': 1,\n",
       " 'Such': 1,\n",
       " 'Noise': 2,\n",
       " 'Inside': 2,\n",
       " 'One': 2,\n",
       " 'Could': 2,\n",
       " 'Possibly': 1,\n",
       " 'Hear': 1,\n",
       " 'Certainly': 1,\n",
       " 'Most': 1,\n",
       " 'Extraordinary': 1,\n",
       " 'Going': 1,\n",
       " 'Within': 1,\n",
       " 'Constant': 1,\n",
       " 'Howling': 1,\n",
       " 'Sneezing': 1,\n",
       " 'Every': 1,\n",
       " 'Now': 1,\n",
       " 'Crash': 1,\n",
       " 'If': 3,\n",
       " 'Dish': 1,\n",
       " 'Kettle': 1,\n",
       " 'Been': 1,\n",
       " 'Broken': 1,\n",
       " 'Pieces': 2,\n",
       " 'Please': 1,\n",
       " 'How': 2,\n",
       " 'Am': 2,\n",
       " 'Get': 2,\n",
       " 'Might': 3,\n",
       " 'Some': 1,\n",
       " 'Sense': 1,\n",
       " 'Your': 1,\n",
       " 'Without': 1,\n",
       " 'Attending': 1,\n",
       " 'We': 1,\n",
       " 'Between': 1,\n",
       " 'Us': 1,\n",
       " 'Instance': 1,\n",
       " 'Were': 1,\n",
       " 'Knock': 1,\n",
       " 'Let': 1,\n",
       " 'Time': 1,\n",
       " 'Speaking': 1,\n",
       " 'Thought': 1,\n",
       " 'Decidedly': 1,\n",
       " 'Uncivil': 1,\n",
       " 'But': 2,\n",
       " 'Perhaps': 1,\n",
       " 'Can': 1,\n",
       " 'T': 1,\n",
       " 'Help': 1,\n",
       " 'Herself': 1,\n",
       " 'Top': 1,\n",
       " 'Head': 2,\n",
       " 'Any': 1,\n",
       " 'Rate': 1,\n",
       " 'Answer': 1,\n",
       " 'Questions': 1,\n",
       " 'Aloud': 1,\n",
       " 'Shall': 1,\n",
       " 'Sit': 1,\n",
       " 'Here': 1,\n",
       " 'Remarked': 1,\n",
       " 'Till': 1,\n",
       " 'Tomorrow': 1,\n",
       " 'Moment': 1,\n",
       " 'Plate': 1,\n",
       " 'Skimming': 1,\n",
       " 'Straight': 1,\n",
       " 'Just': 1,\n",
       " 'Grazed': 1,\n",
       " 'Nose': 1,\n",
       " 'Broke': 1,\n",
       " 'Against': 1,\n",
       " 'Trees': 1,\n",
       " 'Behind': 1}"
      ]
     },
     "execution_count": 39,
     "metadata": {},
     "output_type": "execute_result"
    }
   ],
   "source": [
    "paragraph_text = '''\n",
    "For a minute or two she stood looking at the house, and wondering what to do next, when suddenly a footman in livery came running out of the wood—(she considered him to be a footman because he was in livery: otherwise, judging by his face only, she would have called him a fish)—and rapped loudly at the door with his knuckles. It was opened by another footman in livery, with a round face, and large eyes like a frog; and both footmen, Alice noticed, had powdered hair that curled all over their heads. She felt very curious to know what it was all about, and crept a little way out of the wood to listen.\n",
    "The Fish-Footman began by producing from under his arm a great letter, nearly as large as himself, and this he handed over to the other, saying, in a solemn tone, ‘For the Duchess. An invitation from the Queen to play croquet.’ The Frog-Footman repeated, in the same solemn tone, only changing the order of the words a little, ‘From the Queen. An invitation for the Duchess to play croquet.’\n",
    "Then they both bowed low, and their curls got entangled together.\n",
    "Alice laughed so much at this, that she had to run back into the wood for fear of their hearing her; and when she next peeped out the Fish-Footman was gone, and the other was sitting on the ground near the door, staring stupidly up into the sky.\n",
    "Alice went timidly up to the door, and knocked.\n",
    "‘There’s no sort of use in knocking,’ said the Footman, ‘and that for two reasons. First, because I’m on the same side of the door as you are; secondly, because they’re making such a noise inside, no one could possibly hear you.’ And certainly there was a most extraordinary noise going on within—a constant howling and sneezing, and every now and then a great crash, as if a dish or kettle had been broken to pieces.\n",
    "‘Please, then,’ said Alice, ‘how am I to get in?’\n",
    "‘There might be some sense in your knocking,’ the Footman went on without attending to her, ‘if we had the door between us. For instance, if you were inside, you might knock, and I could let you out, you know.’ He was looking up into the sky all the time he was speaking, and this Alice thought decidedly uncivil. ‘But perhaps he can’t help it,’ she said to herself; ‘his eyes are so very nearly at the top of his head. But at any rate he might answer questions.—How am I to get in?’ she repeated, aloud.\n",
    "‘I shall sit here,’ the Footman remarked, ‘till tomorrow—’\n",
    "At this moment the door of the house opened, and a large plate came skimming out, straight at the Footman’s head: it just grazed his nose, and broke to pieces against one of the trees behind him.'''\n",
    "\n",
    "#Ummmm... this was quite difficult! In the end, I follow though.\n",
    "\n",
    "#Replace the punctuation with a blank space- I'm tracking so far\n",
    "no_punc = paragraph_text\n",
    "for chararcter in '?!;:,.‘—’()-': \n",
    "    no_punc = no_punc.replace(chararcter, ' ')\n",
    "\n",
    "#title case\n",
    "no_punc_title = no_punc.title()\n",
    "\n",
    "#prepare for big dict\n",
    "big_dict = no_punc_title.split()\n",
    "\n",
    "#whip it out\n",
    "counts(big_dict)"
   ]
  },
  {
   "cell_type": "markdown",
   "metadata": {},
   "source": [
    "## 4. Read in a file using `open()` and iterated through the file line-by-line write each line from the file to a new file in a  `title()`-ized. Create your own file for input\n",
    "\n",
    "`This is the first line` ->  `This Is The First Line`\n",
    "\n",
    "Hint: There's a function to do this"
   ]
  },
  {
   "cell_type": "code",
   "execution_count": 20,
   "metadata": {},
   "outputs": [
    {
     "name": "stdout",
     "output_type": "stream",
     "text": [
      "Line1: This is the first line.This is the second line.This is the third line.\n"
     ]
    }
   ],
   "source": [
    "#nogo on the /n here? I don't understand what is being asked about lines, specifically. Is it just use-the-commands?\n",
    "L = [\"This is the first line.\", \"This is the second line.\", \"This is the third line.\"]\n",
    "\n",
    "#writelines()\n",
    "file1 = open('try2.txt', 'w')\n",
    "file1.writelines(L)\n",
    "file1.close()\n",
    "\n",
    "#readlines()\n",
    "file1 = open('try2.txt', 'r')\n",
    "Lines = file1.readlines()\n",
    "\n",
    "#something\n",
    "count = 0\n",
    "for line in Lines:\n",
    "    count += 1\n",
    "    print(\"Line{}: {}\".format(count, line.strip()))\n"
   ]
  },
  {
   "cell_type": "markdown",
   "metadata": {},
   "source": [
    "# Numpy"
   ]
  },
  {
   "cell_type": "markdown",
   "metadata": {},
   "source": [
    "## 1. Given a list, find the average using a numpy function. "
   ]
  },
  {
   "cell_type": "code",
   "execution_count": 32,
   "metadata": {},
   "outputs": [
    {
     "data": {
      "text/plain": [
       "3.375"
      ]
     },
     "execution_count": 32,
     "metadata": {},
     "output_type": "execute_result"
    }
   ],
   "source": [
    "simple_list = [1,2,1,4,3,2,5,9]\n",
    "\n",
    "np.average(simple_list)\n"
   ]
  },
  {
   "cell_type": "markdown",
   "metadata": {},
   "source": [
    "## 2. Given two lists of Heights and Weights of individual, calculate the BMI of those individuals, without writing a `for-loop`"
   ]
  },
  {
   "cell_type": "code",
   "execution_count": 25,
   "metadata": {},
   "outputs": [
    {
     "name": "stdout",
     "output_type": "stream",
     "text": [
      "The BMI is: [29.06592681 27.73229978 30.73941662 24.16326531 26.33288875]\n"
     ]
    }
   ],
   "source": [
    "heights = [174, 173, 173, 175, 171]\n",
    "weights = [88, 83, 92, 74, 77]\n",
    "\n",
    "meters = np.divide(heights, 100)\n",
    "meters_sq = np.multiply(meters, meters)\n",
    "BMI = np.divide(weights, meters_sq)\n",
    "print(\"The BMI is: \" + str(BMI))"
   ]
  },
  {
   "cell_type": "markdown",
   "metadata": {},
   "source": [
    "## 3. Create an array of length 20 filled with random values (between 0 to 1) "
   ]
  },
  {
   "cell_type": "code",
   "execution_count": 27,
   "metadata": {},
   "outputs": [
    {
     "data": {
      "text/plain": [
       "array([[ 0.59332193, -0.70790471,  1.67796938, -0.46180915,  0.75487134,\n",
       "         0.65131997, -0.74424887, -1.5655081 , -0.96782567, -0.52519082,\n",
       "        -0.7566715 ,  1.04717994, -0.0997502 , -0.44959152, -0.42744716,\n",
       "         0.64044947, -1.46518485,  0.72337746, -0.44495547,  0.12232716]])"
      ]
     },
     "execution_count": 27,
     "metadata": {},
     "output_type": "execute_result"
    }
   ],
   "source": [
    "mant_array = np.random.randn(1, 20)\n",
    "mant_array"
   ]
  },
  {
   "cell_type": "markdown",
   "metadata": {},
   "source": [
    "## 4. Create an array with at least 1000 random numbers from normal distributions (normal). Then, plot a histogram of these values (`plt.hist`)."
   ]
  },
  {
   "cell_type": "code",
   "execution_count": 28,
   "metadata": {},
   "outputs": [
    {
     "data": {
      "image/png": "[encoded data removed]",
      "text/plain": [
       "<Figure size 640x480 with 1 Axes>"
      ]
     },
     "metadata": {},
     "output_type": "display_data"
    }
   ],
   "source": [
    "# Array with 1000 random numbers\n",
    "array_bnnights = np.random.normal(size=1000)\n",
    "\n",
    "# Histogram\n",
    "plt.hist(array_bnnights)\n",
    "plt.show()"
   ]
  },
  {
   "cell_type": "markdown",
   "metadata": {},
   "source": [
    "# Pandas"
   ]
  },
  {
   "cell_type": "markdown",
   "metadata": {},
   "source": [
    "## 1. Read in a CSV () and display all the columns and their respective data types "
   ]
  },
  {
   "cell_type": "code",
   "execution_count": 33,
   "metadata": {},
   "outputs": [
    {
     "data": {
      "text/plain": [
       "id         int64\n",
       "sex       object\n",
       "weight     int64\n",
       "height     int64\n",
       "dtype: object"
      ]
     },
     "execution_count": 33,
     "metadata": {},
     "output_type": "execute_result"
    }
   ],
   "source": [
    "#CSV and display all the columns and their respective data types\n",
    "df = pd.read_csv('hw_data.csv')\n",
    "df.dtypes"
   ]
  },
  {
   "cell_type": "markdown",
   "metadata": {},
   "source": [
    "## 2. Find the average weight "
   ]
  },
  {
   "cell_type": "code",
   "execution_count": 37,
   "metadata": {},
   "outputs": [
    {
     "name": "stdout",
     "output_type": "stream",
     "text": [
      "The average weight is: 135.71428571428572\n"
     ]
    }
   ],
   "source": [
    "avg_weight = df[\"weight\"].mean()\n",
    "print(\"The average weight is: \" + str(avg_weight))"
   ]
  },
  {
   "cell_type": "markdown",
   "metadata": {},
   "source": [
    "## 3. Find the Value Counts on column `sex` "
   ]
  },
  {
   "cell_type": "code",
   "execution_count": 38,
   "metadata": {},
   "outputs": [
    {
     "data": {
      "text/plain": [
       "M    3\n",
       "F    3\n",
       "O    1\n",
       "Name: sex, dtype: int64"
      ]
     },
     "execution_count": 38,
     "metadata": {},
     "output_type": "execute_result"
    }
   ],
   "source": [
    "df[\"sex\"].value_counts()"
   ]
  },
  {
   "cell_type": "markdown",
   "metadata": {},
   "source": [
    "## 4. Plot Height vs. Weight "
   ]
  },
  {
   "cell_type": "code",
   "execution_count": 66,
   "metadata": {},
   "outputs": [
    {
     "data": {
      "text/plain": [
       "['Solarize_Light2',\n",
       " '_classic_test_patch',\n",
       " '_mpl-gallery',\n",
       " '_mpl-gallery-nogrid',\n",
       " 'bmh',\n",
       " 'classic',\n",
       " 'dark_background',\n",
       " 'fast',\n",
       " 'fivethirtyeight',\n",
       " 'ggplot',\n",
       " 'grayscale',\n",
       " 'seaborn',\n",
       " 'seaborn-bright',\n",
       " 'seaborn-colorblind',\n",
       " 'seaborn-dark',\n",
       " 'seaborn-dark-palette',\n",
       " 'seaborn-darkgrid',\n",
       " 'seaborn-deep',\n",
       " 'seaborn-muted',\n",
       " 'seaborn-notebook',\n",
       " 'seaborn-paper',\n",
       " 'seaborn-pastel',\n",
       " 'seaborn-poster',\n",
       " 'seaborn-talk',\n",
       " 'seaborn-ticks',\n",
       " 'seaborn-white',\n",
       " 'seaborn-whitegrid',\n",
       " 'tableau-colorblind10']"
      ]
     },
     "execution_count": 66,
     "metadata": {},
     "output_type": "execute_result"
    }
   ],
   "source": [
    "#not working for me in \"style = \"\n",
    "plt.style.available\n",
    "#matplotlib.style.use('ggplot')"
   ]
  },
  {
   "cell_type": "code",
   "execution_count": 67,
   "metadata": {},
   "outputs": [
    {
     "data": {
      "text/plain": [
       "Text(0, 0.5, 'Weight in Pounds')"
      ]
     },
     "execution_count": 67,
     "metadata": {},
     "output_type": "execute_result"
    },
    {
     "data": {
      "image/png": "[encoded data removed]",
      "text/plain": [
       "<Figure size 640x480 with 1 Axes>"
      ]
     },
     "metadata": {},
     "output_type": "display_data"
    }
   ],
   "source": [
    "#matplotlib.style.use('ggplot')\n",
    "df.plot(\"height\", \"weight\", style = '1')\n",
    "plt.title(\"Height vs Weight\")\n",
    "plt.xlabel(\"Height in Inches\")\n",
    "plt.ylabel(\"Weight in Pounds\")"
   ]
  },
  {
   "cell_type": "markdown",
   "metadata": {},
   "source": [
    "## 5. Calculate BMI and save as a new column"
   ]
  },
  {
   "cell_type": "code",
   "execution_count": 59,
   "metadata": {},
   "outputs": [
    {
     "data": {
      "text/html": [
       "<div>\n",
       "<style scoped>\n",
       "    .dataframe tbody tr th:only-of-type {\n",
       "        vertical-align: middle;\n",
       "    }\n",
       "\n",
       "    .dataframe tbody tr th {\n",
       "        vertical-align: top;\n",
       "    }\n",
       "\n",
       "    .dataframe thead th {\n",
       "        text-align: right;\n",
       "    }\n",
       "</style>\n",
       "<table border=\"1\" class=\"dataframe\">\n",
       "  <thead>\n",
       "    <tr style=\"text-align: right;\">\n",
       "      <th></th>\n",
       "      <th>id</th>\n",
       "      <th>sex</th>\n",
       "      <th>weight</th>\n",
       "      <th>height</th>\n",
       "      <th>BMI</th>\n",
       "    </tr>\n",
       "  </thead>\n",
       "  <tbody>\n",
       "    <tr>\n",
       "      <th>0</th>\n",
       "      <td>1</td>\n",
       "      <td>M</td>\n",
       "      <td>190</td>\n",
       "      <td>77</td>\n",
       "      <td>22.528251</td>\n",
       "    </tr>\n",
       "    <tr>\n",
       "      <th>1</th>\n",
       "      <td>2</td>\n",
       "      <td>F</td>\n",
       "      <td>120</td>\n",
       "      <td>70</td>\n",
       "      <td>17.216327</td>\n",
       "    </tr>\n",
       "    <tr>\n",
       "      <th>2</th>\n",
       "      <td>3</td>\n",
       "      <td>F</td>\n",
       "      <td>110</td>\n",
       "      <td>68</td>\n",
       "      <td>16.723616</td>\n",
       "    </tr>\n",
       "    <tr>\n",
       "      <th>3</th>\n",
       "      <td>4</td>\n",
       "      <td>M</td>\n",
       "      <td>150</td>\n",
       "      <td>72</td>\n",
       "      <td>20.341435</td>\n",
       "    </tr>\n",
       "    <tr>\n",
       "      <th>4</th>\n",
       "      <td>5</td>\n",
       "      <td>O</td>\n",
       "      <td>120</td>\n",
       "      <td>66</td>\n",
       "      <td>19.366391</td>\n",
       "    </tr>\n",
       "    <tr>\n",
       "      <th>5</th>\n",
       "      <td>6</td>\n",
       "      <td>M</td>\n",
       "      <td>120</td>\n",
       "      <td>60</td>\n",
       "      <td>23.433333</td>\n",
       "    </tr>\n",
       "    <tr>\n",
       "      <th>6</th>\n",
       "      <td>7</td>\n",
       "      <td>F</td>\n",
       "      <td>140</td>\n",
       "      <td>70</td>\n",
       "      <td>20.085714</td>\n",
       "    </tr>\n",
       "  </tbody>\n",
       "</table>\n",
       "</div>"
      ],
      "text/plain": [
       "   id sex  weight  height        BMI\n",
       "0   1   M     190      77  22.528251\n",
       "1   2   F     120      70  17.216327\n",
       "2   3   F     110      68  16.723616\n",
       "3   4   M     150      72  20.341435\n",
       "4   5   O     120      66  19.366391\n",
       "5   6   M     120      60  23.433333\n",
       "6   7   F     140      70  20.085714"
      ]
     },
     "execution_count": 59,
     "metadata": {},
     "output_type": "execute_result"
    }
   ],
   "source": [
    "df[\"BMI\"] = (df[\"weight\"]*703/(df[\"height\"]*df[\"height\"]))\n",
    "df"
   ]
  },
  {
   "cell_type": "markdown",
   "metadata": {},
   "source": [
    "## 6. Save sheet as a new CSV file `hw_dataB.csv`"
   ]
  },
  {
   "cell_type": "code",
   "execution_count": 60,
   "metadata": {},
   "outputs": [],
   "source": [
    "df.to_csv(\"hw_dataB.csv\")\n"
   ]
  },
  {
   "cell_type": "markdown",
   "metadata": {},
   "source": [
    "## Run the following (Mac)"
   ]
  },
  {
   "cell_type": "code",
   "execution_count": 61,
   "metadata": {},
   "outputs": [
    {
     "name": "stdout",
     "output_type": "stream",
     "text": [
      ",id,sex,weight,height,BMI\r\n",
      "0,1,M,190,77,22.528250969809413\r\n",
      "1,2,F,120,70,17.216326530612246\r\n",
      "2,3,F,110,68,16.723615916955016\r\n",
      "3,4,M,150,72,20.341435185185187\r\n",
      "4,5,O,120,66,19.366391184573004\r\n",
      "5,6,M,120,60,23.433333333333334\r\n",
      "6,7,F,140,70,20.085714285714285\r\n"
     ]
    }
   ],
   "source": [
    "!cat hw_dataB.csv"
   ]
  },
  {
   "cell_type": "markdown",
   "metadata": {},
   "source": [
    "## Run the following (Windows) "
   ]
  },
  {
   "cell_type": "code",
   "execution_count": null,
   "metadata": {},
   "outputs": [],
   "source": [
    "!type hw_dataB.csv"
   ]
  }
 ],
 "metadata": {
  "kernelspec": {
   "display_name": "Python 3 (ipykernel)",
   "language": "python",
   "name": "python3"
  },
  "language_info": {
   "codemirror_mode": {
    "name": "ipython",
    "version": 3
   },
   "file_extension": ".py",
   "mimetype": "text/x-python",
   "name": "python",
   "nbconvert_exporter": "python",
   "pygments_lexer": "ipython3",
   "version": "3.9.13"
  }
 },
 "nbformat": 4,
 "nbformat_minor": 1
}
